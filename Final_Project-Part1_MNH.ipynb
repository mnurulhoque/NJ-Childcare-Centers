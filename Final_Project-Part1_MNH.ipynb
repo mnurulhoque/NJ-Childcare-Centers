{
 "cells": [
  {
   "cell_type": "code",
   "execution_count": 1,
   "metadata": {},
   "outputs": [
    {
     "name": "stdout",
     "output_type": "stream",
     "text": [
      "Requirement already satisfied: geopandas in /opt/conda/lib/python3.11/site-packages (0.14.1)\n",
      "Requirement already satisfied: mapclassify in /opt/conda/lib/python3.11/site-packages (2.6.1)\n",
      "Requirement already satisfied: folium in /opt/conda/lib/python3.11/site-packages (0.15.1)\n",
      "Requirement already satisfied: fiona>=1.8.21 in /opt/conda/lib/python3.11/site-packages (from geopandas) (1.9.4)\n",
      "Requirement already satisfied: packaging in /opt/conda/lib/python3.11/site-packages (from geopandas) (23.1)\n",
      "Requirement already satisfied: pandas>=1.4.0 in /opt/conda/lib/python3.11/site-packages (from geopandas) (2.0.3)\n",
      "Requirement already satisfied: pyproj>=3.3.0 in /opt/conda/lib/python3.11/site-packages (from geopandas) (3.6.0)\n",
      "Requirement already satisfied: shapely>=1.8.0 in /opt/conda/lib/python3.11/site-packages (from geopandas) (2.0.1)\n",
      "Requirement already satisfied: networkx>=2.7 in /opt/conda/lib/python3.11/site-packages (from mapclassify) (3.1)\n",
      "Requirement already satisfied: numpy>=1.23 in /opt/conda/lib/python3.11/site-packages (from mapclassify) (1.24.4)\n",
      "Requirement already satisfied: scikit-learn>=1.0 in /opt/conda/lib/python3.11/site-packages (from mapclassify) (1.3.0)\n",
      "Requirement already satisfied: scipy>=1.8 in /opt/conda/lib/python3.11/site-packages (from mapclassify) (1.11.1)\n",
      "Requirement already satisfied: branca>=0.6.0 in /opt/conda/lib/python3.11/site-packages (from folium) (0.6.0)\n",
      "Requirement already satisfied: jinja2>=2.9 in /opt/conda/lib/python3.11/site-packages (from folium) (3.1.2)\n",
      "Requirement already satisfied: requests in /opt/conda/lib/python3.11/site-packages (from folium) (2.31.0)\n",
      "Requirement already satisfied: xyzservices in /opt/conda/lib/python3.11/site-packages (from folium) (2023.7.0)\n",
      "Requirement already satisfied: attrs>=19.2.0 in /opt/conda/lib/python3.11/site-packages (from fiona>=1.8.21->geopandas) (23.1.0)\n",
      "Requirement already satisfied: certifi in /opt/conda/lib/python3.11/site-packages (from fiona>=1.8.21->geopandas) (2023.7.22)\n",
      "Requirement already satisfied: click~=8.0 in /opt/conda/lib/python3.11/site-packages (from fiona>=1.8.21->geopandas) (8.1.6)\n",
      "Requirement already satisfied: click-plugins>=1.0 in /opt/conda/lib/python3.11/site-packages (from fiona>=1.8.21->geopandas) (1.1.1)\n",
      "Requirement already satisfied: cligj>=0.5 in /opt/conda/lib/python3.11/site-packages (from fiona>=1.8.21->geopandas) (0.7.2)\n",
      "Requirement already satisfied: six in /opt/conda/lib/python3.11/site-packages (from fiona>=1.8.21->geopandas) (1.16.0)\n",
      "Requirement already satisfied: MarkupSafe>=2.0 in /opt/conda/lib/python3.11/site-packages (from jinja2>=2.9->folium) (2.1.3)\n",
      "Requirement already satisfied: python-dateutil>=2.8.2 in /opt/conda/lib/python3.11/site-packages (from pandas>=1.4.0->geopandas) (2.8.2)\n",
      "Requirement already satisfied: pytz>=2020.1 in /opt/conda/lib/python3.11/site-packages (from pandas>=1.4.0->geopandas) (2023.3)\n",
      "Requirement already satisfied: tzdata>=2022.1 in /opt/conda/lib/python3.11/site-packages (from pandas>=1.4.0->geopandas) (2023.3)\n",
      "Requirement already satisfied: joblib>=1.1.1 in /opt/conda/lib/python3.11/site-packages (from scikit-learn>=1.0->mapclassify) (1.3.0)\n",
      "Requirement already satisfied: threadpoolctl>=2.0.0 in /opt/conda/lib/python3.11/site-packages (from scikit-learn>=1.0->mapclassify) (3.2.0)\n",
      "Requirement already satisfied: charset-normalizer<4,>=2 in /opt/conda/lib/python3.11/site-packages (from requests->folium) (3.2.0)\n",
      "Requirement already satisfied: idna<4,>=2.5 in /opt/conda/lib/python3.11/site-packages (from requests->folium) (3.4)\n",
      "Requirement already satisfied: urllib3<3,>=1.21.1 in /opt/conda/lib/python3.11/site-packages (from requests->folium) (2.0.4)\n"
     ]
    }
   ],
   "source": [
    "!pip install --upgrade geopandas mapclassify folium"
   ]
  },
  {
   "cell_type": "code",
   "execution_count": 2,
   "metadata": {
    "colab": {
     "base_uri": "https://localhost:8080/",
     "height": 100
    },
    "id": "yWvIyyWkedmi",
    "outputId": "395f180c-355a-4253-ad55-331601d58082"
   },
   "outputs": [
    {
     "name": "stdout",
     "output_type": "stream",
     "text": [
      "Collecting arcgis\n",
      "  Downloading arcgis-2.2.0.2.tar.gz (48.0 MB)\n",
      "\u001b[2K     \u001b[90m━━━━━━━━━━━━━━━━━━━━━━━━━━━━━━━━━━━━━━━━\u001b[0m \u001b[32m48.0/48.0 MB\u001b[0m \u001b[31m18.2 MB/s\u001b[0m eta \u001b[36m0:00:00\u001b[0m00:01\u001b[0m00:01\u001b[0m\n",
      "\u001b[?25h  Preparing metadata (setup.py) ... \u001b[?25ldone\n",
      "\u001b[?25hBuilding wheels for collected packages: arcgis\n",
      "  Building wheel for arcgis (setup.py) ... \u001b[?25ldone\n",
      "\u001b[?25h  Created wheel for arcgis: filename=arcgis-2.2.0.2-cp311-cp311-linux_x86_64.whl size=8487781 sha256=b5af0da3e02cb78e6fedd0d74594a15cbfc37a0dfa4e7659536d8c7a803fd78b\n",
      "  Stored in directory: /home/jovyan/.cache/pip/wheels/93/b2/4b/2858c95895c2205a0bf9636081a49c7762f0d08559e37b23f8\n",
      "Successfully built arcgis\n",
      "Installing collected packages: arcgis\n",
      "Successfully installed arcgis-2.2.0.2\n",
      "Collecting ujson\n",
      "  Obtaining dependency information for ujson from https://files.pythonhosted.org/packages/d3/93/de6fff3ae06351f3b1c372f675fe69bc180f93d237c9e496c05802173dd6/ujson-5.9.0-cp311-cp311-manylinux_2_17_x86_64.manylinux2014_x86_64.whl.metadata\n",
      "  Using cached ujson-5.9.0-cp311-cp311-manylinux_2_17_x86_64.manylinux2014_x86_64.whl.metadata (8.7 kB)\n",
      "Requirement already satisfied: requests_toolbelt in /opt/conda/lib/python3.11/site-packages (1.0.0)\n",
      "Collecting requests_ntlm\n",
      "  Downloading requests_ntlm-1.2.0-py3-none-any.whl (6.0 kB)\n",
      "Collecting geomet\n",
      "  Obtaining dependency information for geomet from https://files.pythonhosted.org/packages/af/90/3bc780df088d439714af8295196a4332a26559ae66fd99865e36f92efa9e/geomet-1.1.0-py3-none-any.whl.metadata\n",
      "  Using cached geomet-1.1.0-py3-none-any.whl.metadata (11 kB)\n",
      "Requirement already satisfied: requests<3.0.0,>=2.0.1 in /opt/conda/lib/python3.11/site-packages (from requests_toolbelt) (2.31.0)\n",
      "Requirement already satisfied: cryptography>=1.3 in /opt/conda/lib/python3.11/site-packages (from requests_ntlm) (41.0.2)\n",
      "Collecting pyspnego>=0.1.6 (from requests_ntlm)\n",
      "  Obtaining dependency information for pyspnego>=0.1.6 from https://files.pythonhosted.org/packages/cc/fd/06a7618de50ad13b7e85115bd1e42c1625e3365313a4c971898386781f89/pyspnego-0.10.2-py3-none-any.whl.metadata\n",
      "  Using cached pyspnego-0.10.2-py3-none-any.whl.metadata (5.4 kB)\n",
      "Requirement already satisfied: click in /opt/conda/lib/python3.11/site-packages (from geomet) (8.1.6)\n",
      "Requirement already satisfied: cffi>=1.12 in /opt/conda/lib/python3.11/site-packages (from cryptography>=1.3->requests_ntlm) (1.15.1)\n",
      "Requirement already satisfied: charset-normalizer<4,>=2 in /opt/conda/lib/python3.11/site-packages (from requests<3.0.0,>=2.0.1->requests_toolbelt) (3.2.0)\n",
      "Requirement already satisfied: idna<4,>=2.5 in /opt/conda/lib/python3.11/site-packages (from requests<3.0.0,>=2.0.1->requests_toolbelt) (3.4)\n",
      "Requirement already satisfied: urllib3<3,>=1.21.1 in /opt/conda/lib/python3.11/site-packages (from requests<3.0.0,>=2.0.1->requests_toolbelt) (2.0.4)\n",
      "Requirement already satisfied: certifi>=2017.4.17 in /opt/conda/lib/python3.11/site-packages (from requests<3.0.0,>=2.0.1->requests_toolbelt) (2023.7.22)\n",
      "Requirement already satisfied: pycparser in /opt/conda/lib/python3.11/site-packages (from cffi>=1.12->cryptography>=1.3->requests_ntlm) (2.21)\n",
      "Using cached ujson-5.9.0-cp311-cp311-manylinux_2_17_x86_64.manylinux2014_x86_64.whl (53 kB)\n",
      "Using cached geomet-1.1.0-py3-none-any.whl (31 kB)\n",
      "Using cached pyspnego-0.10.2-py3-none-any.whl (129 kB)\n",
      "Installing collected packages: ujson, geomet, pyspnego, requests_ntlm\n",
      "\u001b[31mERROR: pip's dependency resolver does not currently take into account all the packages that are installed. This behaviour is the source of the following dependency conflicts.\n",
      "arcgis 2.2.0.2 requires cachetools, which is not installed.\n",
      "arcgis 2.2.0.2 requires dask>=2023.3.2, which is not installed.\n",
      "arcgis 2.2.0.2 requires lxml, which is not installed.\n",
      "arcgis 2.2.0.2 requires pylerc, which is not installed.\n",
      "arcgis 2.2.0.2 requires requests-gssapi, which is not installed.\n",
      "arcgis 2.2.0.2 requires requests-kerberos, which is not installed.\n",
      "arcgis 2.2.0.2 requires truststore>=0.7.0; python_version > \"3.9\", which is not installed.\n",
      "arcgis 2.2.0.2 requires ipywidgets<8,>=7, but you have ipywidgets 8.0.7 which is incompatible.\n",
      "arcgis 2.2.0.2 requires jupyter-client<=6.1.12, but you have jupyter-client 8.3.0 which is incompatible.\u001b[0m\u001b[31m\n",
      "\u001b[0mSuccessfully installed geomet-1.1.0 pyspnego-0.10.2 requests_ntlm-1.2.0 ujson-5.9.0\n",
      "Collecting OSMPythonTools\n",
      "  Downloading OSMPythonTools-0.3.5.tar.gz (28 kB)\n",
      "  Preparing metadata (setup.py) ... \u001b[?25ldone\n",
      "\u001b[?25hRequirement already satisfied: beautifulsoup4 in /opt/conda/lib/python3.11/site-packages (from OSMPythonTools) (4.12.2)\n",
      "Collecting geojson (from OSMPythonTools)\n",
      "  Obtaining dependency information for geojson from https://files.pythonhosted.org/packages/8e/1b/4f57660aa148d3e3043d048b7e1ab87dfeb85204d0fdb5b4e19c08202162/geojson-3.1.0-py3-none-any.whl.metadata\n",
      "  Downloading geojson-3.1.0-py3-none-any.whl.metadata (16 kB)\n",
      "Collecting lxml (from OSMPythonTools)\n",
      "  Obtaining dependency information for lxml from https://files.pythonhosted.org/packages/be/2b/c240b9d4b1daf80573adbca0b6e3e3d69bb3838bebd9cb4c7d51ed315189/lxml-4.9.4-cp311-cp311-manylinux_2_28_x86_64.whl.metadata\n",
      "  Using cached lxml-4.9.4-cp311-cp311-manylinux_2_28_x86_64.whl.metadata (3.7 kB)\n",
      "Requirement already satisfied: matplotlib in /opt/conda/lib/python3.11/site-packages (from OSMPythonTools) (3.7.2)\n",
      "Requirement already satisfied: numpy in /opt/conda/lib/python3.11/site-packages (from OSMPythonTools) (1.24.4)\n",
      "Requirement already satisfied: pandas in /opt/conda/lib/python3.11/site-packages (from OSMPythonTools) (2.0.3)\n",
      "Requirement already satisfied: ujson in /opt/conda/lib/python3.11/site-packages (from OSMPythonTools) (5.9.0)\n",
      "Collecting xarray (from OSMPythonTools)\n",
      "  Obtaining dependency information for xarray from https://files.pythonhosted.org/packages/54/a3/289d1b5703412247551fc9f2057e8726567bdd278d25c37ad834f78c851e/xarray-2023.12.0-py3-none-any.whl.metadata\n",
      "  Downloading xarray-2023.12.0-py3-none-any.whl.metadata (11 kB)\n",
      "Requirement already satisfied: soupsieve>1.2 in /opt/conda/lib/python3.11/site-packages (from beautifulsoup4->OSMPythonTools) (2.3.2.post1)\n",
      "Requirement already satisfied: contourpy>=1.0.1 in /opt/conda/lib/python3.11/site-packages (from matplotlib->OSMPythonTools) (1.1.0)\n",
      "Requirement already satisfied: cycler>=0.10 in /opt/conda/lib/python3.11/site-packages (from matplotlib->OSMPythonTools) (0.11.0)\n",
      "Requirement already satisfied: fonttools>=4.22.0 in /opt/conda/lib/python3.11/site-packages (from matplotlib->OSMPythonTools) (4.41.1)\n",
      "Requirement already satisfied: kiwisolver>=1.0.1 in /opt/conda/lib/python3.11/site-packages (from matplotlib->OSMPythonTools) (1.4.4)\n",
      "Requirement already satisfied: packaging>=20.0 in /opt/conda/lib/python3.11/site-packages (from matplotlib->OSMPythonTools) (23.1)\n",
      "Requirement already satisfied: pillow>=6.2.0 in /opt/conda/lib/python3.11/site-packages (from matplotlib->OSMPythonTools) (10.0.0)\n",
      "Requirement already satisfied: pyparsing<3.1,>=2.3.1 in /opt/conda/lib/python3.11/site-packages (from matplotlib->OSMPythonTools) (3.0.9)\n",
      "Requirement already satisfied: python-dateutil>=2.7 in /opt/conda/lib/python3.11/site-packages (from matplotlib->OSMPythonTools) (2.8.2)\n",
      "Requirement already satisfied: pytz>=2020.1 in /opt/conda/lib/python3.11/site-packages (from pandas->OSMPythonTools) (2023.3)\n",
      "Requirement already satisfied: tzdata>=2022.1 in /opt/conda/lib/python3.11/site-packages (from pandas->OSMPythonTools) (2023.3)\n",
      "Requirement already satisfied: six>=1.5 in /opt/conda/lib/python3.11/site-packages (from python-dateutil>=2.7->matplotlib->OSMPythonTools) (1.16.0)\n",
      "Downloading geojson-3.1.0-py3-none-any.whl (15 kB)\n",
      "Using cached lxml-4.9.4-cp311-cp311-manylinux_2_28_x86_64.whl (7.9 MB)\n",
      "Downloading xarray-2023.12.0-py3-none-any.whl (1.1 MB)\n",
      "\u001b[2K   \u001b[90m━━━━━━━━━━━━━━━━━━━━━━━━━━━━━━━━━━━━━━━━\u001b[0m \u001b[32m1.1/1.1 MB\u001b[0m \u001b[31m17.2 MB/s\u001b[0m eta \u001b[36m0:00:00\u001b[0ma \u001b[36m0:00:01\u001b[0m\n",
      "\u001b[?25hBuilding wheels for collected packages: OSMPythonTools\n",
      "  Building wheel for OSMPythonTools (setup.py) ... \u001b[?25ldone\n",
      "\u001b[?25h  Created wheel for OSMPythonTools: filename=OSMPythonTools-0.3.5-py3-none-any.whl size=32716 sha256=1fcea0e508f3484eb4c6c11e4941d59d8f541ec8ffaa319a796010d6984d2835\n",
      "  Stored in directory: /home/jovyan/.cache/pip/wheels/c6/d0/f3/df5ca1a29d749e1a99e635f84617944cfc2d0fa2f5d8078208\n",
      "Successfully built OSMPythonTools\n",
      "Installing collected packages: lxml, geojson, xarray, OSMPythonTools\n",
      "\u001b[31mERROR: pip's dependency resolver does not currently take into account all the packages that are installed. This behaviour is the source of the following dependency conflicts.\n",
      "arcgis 2.2.0.2 requires cachetools, which is not installed.\n",
      "arcgis 2.2.0.2 requires dask>=2023.3.2, which is not installed.\n",
      "arcgis 2.2.0.2 requires pylerc, which is not installed.\n",
      "arcgis 2.2.0.2 requires requests-gssapi, which is not installed.\n",
      "arcgis 2.2.0.2 requires requests-kerberos, which is not installed.\n",
      "arcgis 2.2.0.2 requires truststore>=0.7.0; python_version > \"3.9\", which is not installed.\n",
      "arcgis 2.2.0.2 requires ipywidgets<8,>=7, but you have ipywidgets 8.0.7 which is incompatible.\n",
      "arcgis 2.2.0.2 requires jupyter-client<=6.1.12, but you have jupyter-client 8.3.0 which is incompatible.\u001b[0m\u001b[31m\n",
      "\u001b[0mSuccessfully installed OSMPythonTools-0.3.5 geojson-3.1.0 lxml-4.9.4 xarray-2023.12.0\n",
      "Collecting cachetools\n",
      "  Obtaining dependency information for cachetools from https://files.pythonhosted.org/packages/a2/91/2d843adb9fbd911e0da45fbf6f18ca89d07a087c3daa23e955584f90ebf4/cachetools-5.3.2-py3-none-any.whl.metadata\n",
      "  Using cached cachetools-5.3.2-py3-none-any.whl.metadata (5.2 kB)\n",
      "Requirement already satisfied: requests_oauthlib in /opt/conda/lib/python3.11/site-packages (1.3.1)\n",
      "Requirement already satisfied: oauthlib>=3.0.0 in /opt/conda/lib/python3.11/site-packages (from requests_oauthlib) (3.2.2)\n",
      "Requirement already satisfied: requests>=2.0.0 in /opt/conda/lib/python3.11/site-packages (from requests_oauthlib) (2.31.0)\n",
      "Requirement already satisfied: charset-normalizer<4,>=2 in /opt/conda/lib/python3.11/site-packages (from requests>=2.0.0->requests_oauthlib) (3.2.0)\n",
      "Requirement already satisfied: idna<4,>=2.5 in /opt/conda/lib/python3.11/site-packages (from requests>=2.0.0->requests_oauthlib) (3.4)\n",
      "Requirement already satisfied: urllib3<3,>=1.21.1 in /opt/conda/lib/python3.11/site-packages (from requests>=2.0.0->requests_oauthlib) (2.0.4)\n",
      "Requirement already satisfied: certifi>=2017.4.17 in /opt/conda/lib/python3.11/site-packages (from requests>=2.0.0->requests_oauthlib) (2023.7.22)\n",
      "Using cached cachetools-5.3.2-py3-none-any.whl (9.3 kB)\n",
      "Installing collected packages: cachetools\n",
      "\u001b[31mERROR: pip's dependency resolver does not currently take into account all the packages that are installed. This behaviour is the source of the following dependency conflicts.\n",
      "arcgis 2.2.0.2 requires dask>=2023.3.2, which is not installed.\n",
      "arcgis 2.2.0.2 requires pylerc, which is not installed.\n",
      "arcgis 2.2.0.2 requires requests-gssapi, which is not installed.\n",
      "arcgis 2.2.0.2 requires requests-kerberos, which is not installed.\n",
      "arcgis 2.2.0.2 requires truststore>=0.7.0; python_version > \"3.9\", which is not installed.\n",
      "arcgis 2.2.0.2 requires ipywidgets<8,>=7, but you have ipywidgets 8.0.7 which is incompatible.\n",
      "arcgis 2.2.0.2 requires jupyter-client<=6.1.12, but you have jupyter-client 8.3.0 which is incompatible.\u001b[0m\u001b[31m\n",
      "\u001b[0mSuccessfully installed cachetools-5.3.2\n"
     ]
    }
   ],
   "source": [
    "!pip install arcgis --no-deps # --use-deprecated=legacy-resolver # install ArcGIS library for geocoding\n",
    "!pip install ujson requests_toolbelt requests_ntlm geomet\n",
    "!pip install OSMPythonTools\n",
    "!pip install cachetools requests_oauthlib"
   ]
  },
  {
   "cell_type": "code",
   "execution_count": 3,
   "metadata": {
    "colab": {
     "base_uri": "https://localhost:8080/"
    },
    "id": "ux-aMgTweGUF",
    "outputId": "7a10ad37-a530-433b-fc07-6cee22bd9539"
   },
   "outputs": [
    {
     "name": "stderr",
     "output_type": "stream",
     "text": [
      "Connecting to portal: www.arcgis.com\n",
      "Starting new HTTPS connection (1): www.arcgis.com:443\n",
      "https://www.arcgis.com:443 \"GET /sharing/info?f=json HTTP/1.1\" 200 84\n",
      "https://www.arcgis.com:443 \"GET /sharing/rest/info?f=json HTTP/1.1\" 200 None\n",
      "https://www.arcgis.com:443 \"GET /sharing/sharing/rest/info?f=json HTTP/1.1\" 200 84\n",
      "https://www.arcgis.com:443 \"GET /sharing/rest/services?f=json HTTP/1.1\" 200 84\n",
      "Starting new HTTPS connection (1): www.arcgis.com:443\n",
      "https://www.arcgis.com:443 \"POST /sharing/rest/portals/self HTTP/1.1\" 200 None\n",
      "https://www.arcgis.com:443 \"POST /sharing/rest/ HTTP/1.1\" 200 None\n",
      "https://www.arcgis.com:443 \"POST /sharing/rest/portals/self/servers/computePrivateServiceUrl HTTP/1.1\" 200 None\n"
     ]
    },
    {
     "data": {
      "text/plain": [
       "[<Geocoder url:\"https://geocode.arcgis.com/arcgis/rest/services/World/GeocodeServer\">]"
      ]
     },
     "execution_count": 3,
     "metadata": {},
     "output_type": "execute_result"
    }
   ],
   "source": [
    "import geopandas as gpd\n",
    "import arcgis # see if the install worked\n",
    "import pandas as pd # us this to save the data as a CSV file on your Google Drive\n",
    "import time\n",
    "import mapclassify\n",
    "import folium\n",
    "import re # us this for regular expressions\n",
    "import glob\n",
    "import csv # use this to write reviews as CSV later\n",
    "\n",
    "from OSMPythonTools.nominatim import Nominatim\n",
    "from arcgis.gis import GIS # import the things we need\n",
    "import sys\n",
    "from arcgis.geocoding import geocode\n",
    "from arcgis.geocoding import analyze_geocode_input\n",
    "\n",
    "import requests\n",
    "import logging\n",
    "\n",
    "logger = logging.getLogger(\"root\")\n",
    "logger.setLevel(logging.DEBUG)\n",
    "# create console handler\n",
    "ch = logging.StreamHandler()\n",
    "ch.setLevel(logging.DEBUG)\n",
    "logger.addHandler(ch)\n",
    "\n",
    "arcgis.geocoding.get_geocoders(GIS())"
   ]
  },
  {
   "cell_type": "code",
   "execution_count": 21,
   "metadata": {},
   "outputs": [
    {
     "data": {
      "text/html": [
       "<div>\n",
       "<style scoped>\n",
       "    .dataframe tbody tr th:only-of-type {\n",
       "        vertical-align: middle;\n",
       "    }\n",
       "\n",
       "    .dataframe tbody tr th {\n",
       "        vertical-align: top;\n",
       "    }\n",
       "\n",
       "    .dataframe thead th {\n",
       "        text-align: right;\n",
       "    }\n",
       "</style>\n",
       "<table border=\"1\" class=\"dataframe\">\n",
       "  <thead>\n",
       "    <tr style=\"text-align: right;\">\n",
       "      <th></th>\n",
       "      <th>COUNTY</th>\n",
       "      <th>CENTER</th>\n",
       "      <th>PHONE</th>\n",
       "      <th>AGES</th>\n",
       "      <th>CAPACITY</th>\n",
       "      <th>CITY</th>\n",
       "      <th>ADDR1</th>\n",
       "      <th>ADDR2</th>\n",
       "      <th>ZIP</th>\n",
       "      <th>INSPECTIONS</th>\n",
       "    </tr>\n",
       "  </thead>\n",
       "  <tbody>\n",
       "    <tr>\n",
       "      <th>0</th>\n",
       "      <td>Passaic</td>\n",
       "      <td>El Mundo De Colore/World of Colors</td>\n",
       "      <td>973-523-0919</td>\n",
       "      <td>2½ to 6</td>\n",
       "      <td>154</td>\n",
       "      <td>Paterson</td>\n",
       "      <td>44 Ward Street</td>\n",
       "      <td>NaN</td>\n",
       "      <td>07501</td>\n",
       "      <td>Inspection Reports (http://www.nj.gov/dcf/fami...</td>\n",
       "    </tr>\n",
       "    <tr>\n",
       "      <th>1</th>\n",
       "      <td>Passaic</td>\n",
       "      <td>El Mundo Del Nino/A Child's World</td>\n",
       "      <td>973-279-7100</td>\n",
       "      <td>2½ to 6</td>\n",
       "      <td>116</td>\n",
       "      <td>Paterson</td>\n",
       "      <td>433 Main Street</td>\n",
       "      <td>NaN</td>\n",
       "      <td>07501</td>\n",
       "      <td>Inspection Reports (http://www.nj.gov/dcf/fami...</td>\n",
       "    </tr>\n",
       "    <tr>\n",
       "      <th>2</th>\n",
       "      <td>Hudson</td>\n",
       "      <td>Concordia Learning Center</td>\n",
       "      <td>201-876-5432</td>\n",
       "      <td>2½ to 6</td>\n",
       "      <td>120</td>\n",
       "      <td>Jersey City</td>\n",
       "      <td>761 Summit Ave.</td>\n",
       "      <td>NaN</td>\n",
       "      <td>07307</td>\n",
       "      <td>Inspection Reports (http://www.nj.gov/dcf/fami...</td>\n",
       "    </tr>\n",
       "    <tr>\n",
       "      <th>3</th>\n",
       "      <td>Mercer</td>\n",
       "      <td>The Children's Home Society of NJ Afterschool ...</td>\n",
       "      <td>609-695-6274</td>\n",
       "      <td>6 to 13</td>\n",
       "      <td>180</td>\n",
       "      <td>Trenton</td>\n",
       "      <td>1300 Stuyvesant Avenue</td>\n",
       "      <td>NaN</td>\n",
       "      <td>08618</td>\n",
       "      <td>Inspection Reports (http://www.nj.gov/dcf/fami...</td>\n",
       "    </tr>\n",
       "    <tr>\n",
       "      <th>4</th>\n",
       "      <td>Burlington</td>\n",
       "      <td>Willingboro BOE at Hawthorne School</td>\n",
       "      <td>609-835-8600</td>\n",
       "      <td>2½ to 13</td>\n",
       "      <td>60</td>\n",
       "      <td>Willingboro</td>\n",
       "      <td>84 Hampshire Lane</td>\n",
       "      <td>NaN</td>\n",
       "      <td>08046</td>\n",
       "      <td>Inspection Reports (http://www.nj.gov/dcf/fami...</td>\n",
       "    </tr>\n",
       "    <tr>\n",
       "      <th>...</th>\n",
       "      <td>...</td>\n",
       "      <td>...</td>\n",
       "      <td>...</td>\n",
       "      <td>...</td>\n",
       "      <td>...</td>\n",
       "      <td>...</td>\n",
       "      <td>...</td>\n",
       "      <td>...</td>\n",
       "      <td>...</td>\n",
       "      <td>...</td>\n",
       "    </tr>\n",
       "    <tr>\n",
       "      <th>4158</th>\n",
       "      <td>Passaic</td>\n",
       "      <td>Enchanted Learning Daycare and Preschool</td>\n",
       "      <td>862-248-0904</td>\n",
       "      <td>0 to 13</td>\n",
       "      <td>40</td>\n",
       "      <td>Pompton Lakes</td>\n",
       "      <td>235 Wanaque Avenue</td>\n",
       "      <td>NaN</td>\n",
       "      <td>07442</td>\n",
       "      <td>Inspection Reports (http://www.nj.gov/dcf/fami...</td>\n",
       "    </tr>\n",
       "    <tr>\n",
       "      <th>4159</th>\n",
       "      <td>Middlesex</td>\n",
       "      <td>STEM Academy for Young Kids</td>\n",
       "      <td>732-243-9683</td>\n",
       "      <td>0 to 13</td>\n",
       "      <td>189</td>\n",
       "      <td>Edison</td>\n",
       "      <td>1665 Oak Tree Road</td>\n",
       "      <td>Suite 400</td>\n",
       "      <td>08820</td>\n",
       "      <td>Inspection Reports (http://www.nj.gov/dcf/fami...</td>\n",
       "    </tr>\n",
       "    <tr>\n",
       "      <th>4160</th>\n",
       "      <td>Middlesex</td>\n",
       "      <td>Montessori Matters Preschool Inc.</td>\n",
       "      <td>732-317-8955</td>\n",
       "      <td>0 to 13</td>\n",
       "      <td>112</td>\n",
       "      <td>Piscatway</td>\n",
       "      <td>111 Suttons Lane</td>\n",
       "      <td>NaN</td>\n",
       "      <td>08854</td>\n",
       "      <td>Inspection Reports (http://www.nj.gov/dcf/fami...</td>\n",
       "    </tr>\n",
       "    <tr>\n",
       "      <th>4161</th>\n",
       "      <td>Somerset</td>\n",
       "      <td>The Learning Experience</td>\n",
       "      <td>732-646-6540</td>\n",
       "      <td>0 to 13</td>\n",
       "      <td>163</td>\n",
       "      <td>Bridgewater</td>\n",
       "      <td>1940 Route 22</td>\n",
       "      <td>NaN</td>\n",
       "      <td>08805</td>\n",
       "      <td>Inspection Reports (http://www.nj.gov/dcf/fami...</td>\n",
       "    </tr>\n",
       "    <tr>\n",
       "      <th>4162</th>\n",
       "      <td>Camden</td>\n",
       "      <td>LA Cherry Hill Associates, LLC D/B/A Lightbrid...</td>\n",
       "      <td>551-655-7419</td>\n",
       "      <td>0 to 13</td>\n",
       "      <td>170</td>\n",
       "      <td>Cherry Hill</td>\n",
       "      <td>10 Grove Street</td>\n",
       "      <td>NaN</td>\n",
       "      <td>08002</td>\n",
       "      <td>Inspection Reports (http://www.nj.gov/dcf/fami...</td>\n",
       "    </tr>\n",
       "  </tbody>\n",
       "</table>\n",
       "<p>4163 rows × 10 columns</p>\n",
       "</div>"
      ],
      "text/plain": [
       "          COUNTY                                             CENTER  \\\n",
       "0        Passaic                 El Mundo De Colore/World of Colors   \n",
       "1        Passaic                  El Mundo Del Nino/A Child's World   \n",
       "2         Hudson                          Concordia Learning Center   \n",
       "3         Mercer  The Children's Home Society of NJ Afterschool ...   \n",
       "4     Burlington                Willingboro BOE at Hawthorne School   \n",
       "...          ...                                                ...   \n",
       "4158     Passaic           Enchanted Learning Daycare and Preschool   \n",
       "4159   Middlesex                        STEM Academy for Young Kids   \n",
       "4160   Middlesex                  Montessori Matters Preschool Inc.   \n",
       "4161    Somerset                            The Learning Experience   \n",
       "4162      Camden  LA Cherry Hill Associates, LLC D/B/A Lightbrid...   \n",
       "\n",
       "             PHONE      AGES  CAPACITY           CITY                   ADDR1  \\\n",
       "0     973-523-0919   2½ to 6       154       Paterson          44 Ward Street   \n",
       "1     973-279-7100   2½ to 6       116       Paterson         433 Main Street   \n",
       "2     201-876-5432   2½ to 6       120    Jersey City         761 Summit Ave.   \n",
       "3     609-695-6274   6 to 13       180        Trenton  1300 Stuyvesant Avenue   \n",
       "4     609-835-8600  2½ to 13        60    Willingboro       84 Hampshire Lane   \n",
       "...            ...       ...       ...            ...                     ...   \n",
       "4158  862-248-0904   0 to 13        40  Pompton Lakes      235 Wanaque Avenue   \n",
       "4159  732-243-9683   0 to 13       189         Edison      1665 Oak Tree Road   \n",
       "4160  732-317-8955   0 to 13       112      Piscatway        111 Suttons Lane   \n",
       "4161  732-646-6540   0 to 13       163    Bridgewater           1940 Route 22   \n",
       "4162  551-655-7419   0 to 13       170    Cherry Hill         10 Grove Street   \n",
       "\n",
       "          ADDR2    ZIP                                        INSPECTIONS  \n",
       "0           NaN  07501  Inspection Reports (http://www.nj.gov/dcf/fami...  \n",
       "1           NaN  07501  Inspection Reports (http://www.nj.gov/dcf/fami...  \n",
       "2           NaN  07307  Inspection Reports (http://www.nj.gov/dcf/fami...  \n",
       "3           NaN  08618  Inspection Reports (http://www.nj.gov/dcf/fami...  \n",
       "4           NaN  08046  Inspection Reports (http://www.nj.gov/dcf/fami...  \n",
       "...         ...    ...                                                ...  \n",
       "4158        NaN  07442  Inspection Reports (http://www.nj.gov/dcf/fami...  \n",
       "4159  Suite 400  08820  Inspection Reports (http://www.nj.gov/dcf/fami...  \n",
       "4160        NaN  08854  Inspection Reports (http://www.nj.gov/dcf/fami...  \n",
       "4161        NaN  08805  Inspection Reports (http://www.nj.gov/dcf/fami...  \n",
       "4162        NaN  08002  Inspection Reports (http://www.nj.gov/dcf/fami...  \n",
       "\n",
       "[4163 rows x 10 columns]"
      ]
     },
     "execution_count": 21,
     "metadata": {},
     "output_type": "execute_result"
    }
   ],
   "source": [
    "## Original dataset uploaded in Jupyter Notebook\n",
    "import pandas as pd\n",
    "Childcare_Centers = pd.read_csv('Data/Licensed_Childcare_Centers.csv')\n",
    "Childcare_Centers "
   ]
  },
  {
   "cell_type": "code",
   "execution_count": 22,
   "metadata": {},
   "outputs": [],
   "source": [
    "# to create a new dataset with the first 250 rows\n",
    "Childcare_Centers.drop(Childcare_Centers.index[251:4162],inplace=True)\n",
    "Childcare_Centers.drop(\"INSPECTIONS\", axis = 1, inplace=True)   \n",
    "Childcare_Centers\n",
    "Childcare_Centers.to_csv('Childcare_Centers_New.csv')"
   ]
  },
  {
   "cell_type": "code",
   "execution_count": 23,
   "metadata": {
    "id": "1lCm2Eaou8tK"
   },
   "outputs": [],
   "source": [
    "# to run the dataset through the ESRI geocoder \n",
    "\n",
    "def geocode_Childcare_Centers_NJ(inputfilepath, outputfilepath): # function for geocoding all reviews from our scraped files\n",
    "  \n",
    "  with open(inputfilepath, 'r') as read_obj: # first load the file\n",
    "      dict_reader = csv.DictReader(read_obj) # pass the file object to DictReader() to get the DictReader object\n",
    "      input_rows = list(dict_reader) # get a list of dictionaries from dct_reader\n",
    "\n",
    "  input_rows_geocoded = [] # initialize an empty list to hold geocoded reviews\n",
    "\n",
    "  for centers in input_rows: # iterate through list\n",
    "    if len(centers['ZIP']) < 5:\n",
    "      centers['ZIP'] = centers['ZIP'].rjust(5, '0')\n",
    "      print(\"I added a leading 0 to the ZIP!\")\n",
    "    multi_field_address = { \n",
    "                        \"Address\" : centers['ADDR1'],\n",
    "                        \"City\" : centers['CITY'],\n",
    "                        \"County\" : centers['COUNTY'],\n",
    "                        \"Postal\" : centers['ZIP']\n",
    "                      }\n",
    "    centers_geocoded = centers # duplicate review\n",
    "    centers_geocoded['ESRI_Review_Needed'] = 1 # default to needing manual review unless we get a point or subaddress back\n",
    "    if len(geocode(multi_field_address)) > 0: # if you get any results\n",
    "      geocodeoutput = geocode(multi_field_address)[0] # geocodes the childcare centers location and gives first choice for now  \n",
    "      print(\"Geocoded \" + multi_field_address['Address'] + \", \" + multi_field_address['City'] + \", \" + multi_field_address['County'] + \", \"+ multi_field_address['Postal']) # print name of place geocoded\n",
    "      centers_geocoded['ESRI_Lon'] = geocodeoutput['attributes']['DisplayX'] # saves Lon\n",
    "      centers_geocoded['ESRI_Lat'] = geocodeoutput['attributes']['DisplayY'] # saves Lat\n",
    "      centers_geocoded['ESRI_Match_Score'] = geocodeoutput['score'] # saves score\n",
    "      centers_geocoded['ESRI_Match_Type'] = geocodeoutput['attributes']['Addr_type'] # saves address type\n",
    "      if geocodeoutput['attributes']['Addr_type'] == \"PointAddress\" or geocodeoutput['attributes']['Addr_type'] == \"Subaddress\":\n",
    "        centers_geocoded['ESRI_Review_Needed'] = 0 # remove review flag if one of these match types is received\n",
    "      centers_geocoded['ESRI_Match_Address'] = geocodeoutput['attributes']['LongLabel'] # saves match address\n",
    "    else: # if you get no results (blanks in all input fields, typically)\n",
    "        centers_geocoded['ESRI_Lon'], centers_geocoded['ESRI_Lat'], centers_geocoded['Match_Score'], centers_geocoded['Match_Type'], centers_geocoded['Match_Address'] = \"\", \"\", 0, \"\", \"\"\n",
    "    input_rows_geocoded.append(centers_geocoded) # adds to new dictionary\n",
    "\n",
    "  keys = input_rows_geocoded[0].keys() # get the list of columns to write\n",
    "\n",
    "  with open(outputfilepath, 'w')  as output_file:\n",
    "    dict_writer = csv.DictWriter(output_file, keys)\n",
    "    dict_writer.writeheader()\n",
    "    dict_writer.writerows(input_rows_geocoded)\n",
    "  print(\"Wrote \" + outputfilepath + \"!\")"
   ]
  },
  {
   "cell_type": "code",
   "execution_count": 24,
   "metadata": {
    "colab": {
     "base_uri": "https://localhost:8080/",
     "height": 200
    },
    "id": "394lGorZwyEu",
    "outputId": "c0841dff-1202-4948-8d87-4eeb066ee8ec"
   },
   "outputs": [
    {
     "name": "stderr",
     "output_type": "stream",
     "text": [
      "https://geocode.arcgis.com:443 \"POST /arcgis/rest/services/World/GeocodeServer/findAddressCandidates HTTP/1.1\" 200 608\n",
      "https://geocode.arcgis.com:443 \"POST /arcgis/rest/services/World/GeocodeServer/findAddressCandidates HTTP/1.1\" 200 608\n",
      "https://geocode.arcgis.com:443 \"POST /arcgis/rest/services/World/GeocodeServer/findAddressCandidates HTTP/1.1\" 200 609\n",
      "https://geocode.arcgis.com:443 \"POST /arcgis/rest/services/World/GeocodeServer/findAddressCandidates HTTP/1.1\" 200 609\n",
      "https://geocode.arcgis.com:443 \"POST /arcgis/rest/services/World/GeocodeServer/findAddressCandidates HTTP/1.1\" 200 612\n",
      "https://geocode.arcgis.com:443 \"POST /arcgis/rest/services/World/GeocodeServer/findAddressCandidates HTTP/1.1\" 200 612\n",
      "https://geocode.arcgis.com:443 \"POST /arcgis/rest/services/World/GeocodeServer/findAddressCandidates HTTP/1.1\" 200 616\n"
     ]
    },
    {
     "name": "stdout",
     "output_type": "stream",
     "text": [
      "Geocoded 44 Ward Street, Paterson, Passaic, 07501\n",
      "Geocoded 433 Main Street, Paterson, Passaic, 07501\n",
      "Geocoded 761 Summit Ave., Jersey City, Hudson, 07307\n"
     ]
    },
    {
     "name": "stderr",
     "output_type": "stream",
     "text": [
      "https://geocode.arcgis.com:443 \"POST /arcgis/rest/services/World/GeocodeServer/findAddressCandidates HTTP/1.1\" 200 616\n",
      "https://geocode.arcgis.com:443 \"POST /arcgis/rest/services/World/GeocodeServer/findAddressCandidates HTTP/1.1\" 200 620\n",
      "https://geocode.arcgis.com:443 \"POST /arcgis/rest/services/World/GeocodeServer/findAddressCandidates HTTP/1.1\" 200 620\n",
      "https://geocode.arcgis.com:443 \"POST /arcgis/rest/services/World/GeocodeServer/findAddressCandidates HTTP/1.1\" 200 641\n",
      "https://geocode.arcgis.com:443 \"POST /arcgis/rest/services/World/GeocodeServer/findAddressCandidates HTTP/1.1\" 200 641\n",
      "https://geocode.arcgis.com:443 \"POST /arcgis/rest/services/World/GeocodeServer/findAddressCandidates HTTP/1.1\" 200 932\n"
     ]
    },
    {
     "name": "stdout",
     "output_type": "stream",
     "text": [
      "Geocoded 1300 Stuyvesant Avenue, Trenton, Mercer, 08618\n",
      "Geocoded 84 Hampshire Lane, Willingboro, Burlington, 08046\n",
      "Geocoded 50 Rev. Dr. Martin Luther King, Willingboro, Burlington, 08046\n"
     ]
    },
    {
     "name": "stderr",
     "output_type": "stream",
     "text": [
      "https://geocode.arcgis.com:443 \"POST /arcgis/rest/services/World/GeocodeServer/findAddressCandidates HTTP/1.1\" 200 932\n",
      "https://geocode.arcgis.com:443 \"POST /arcgis/rest/services/World/GeocodeServer/findAddressCandidates HTTP/1.1\" 200 616\n",
      "https://geocode.arcgis.com:443 \"POST /arcgis/rest/services/World/GeocodeServer/findAddressCandidates HTTP/1.1\" 200 616\n",
      "https://geocode.arcgis.com:443 \"POST /arcgis/rest/services/World/GeocodeServer/findAddressCandidates HTTP/1.1\" 200 619\n",
      "https://geocode.arcgis.com:443 \"POST /arcgis/rest/services/World/GeocodeServer/findAddressCandidates HTTP/1.1\" 200 619\n"
     ]
    },
    {
     "name": "stdout",
     "output_type": "stream",
     "text": [
      "Geocoded 70 Sunset Road, Willingboro, Burlington, 08046\n",
      "Geocoded 41 Pinetree Lane, Willingboro, Burlington, 08046\n",
      "Geocoded 110 Twin Hills Drive, Willingboro, Burlington, 08046\n"
     ]
    },
    {
     "name": "stderr",
     "output_type": "stream",
     "text": [
      "https://geocode.arcgis.com:443 \"POST /arcgis/rest/services/World/GeocodeServer/findAddressCandidates HTTP/1.1\" 200 622\n",
      "https://geocode.arcgis.com:443 \"POST /arcgis/rest/services/World/GeocodeServer/findAddressCandidates HTTP/1.1\" 200 622\n",
      "https://geocode.arcgis.com:443 \"POST /arcgis/rest/services/World/GeocodeServer/findAddressCandidates HTTP/1.1\" 200 614\n",
      "https://geocode.arcgis.com:443 \"POST /arcgis/rest/services/World/GeocodeServer/findAddressCandidates HTTP/1.1\" 200 614\n",
      "https://geocode.arcgis.com:443 \"POST /arcgis/rest/services/World/GeocodeServer/findAddressCandidates HTTP/1.1\" 200 619\n",
      "https://geocode.arcgis.com:443 \"POST /arcgis/rest/services/World/GeocodeServer/findAddressCandidates HTTP/1.1\" 200 619\n",
      "https://geocode.arcgis.com:443 \"POST /arcgis/rest/services/World/GeocodeServer/findAddressCandidates HTTP/1.1\" 200 610\n"
     ]
    },
    {
     "name": "stdout",
     "output_type": "stream",
     "text": [
      "Geocoded 150 Evergreen Drive, Willingboro, Burlington, 08046\n",
      "Geocoded 280 Davey Street, Bloomfield, Essex, 07003\n",
      "Geocoded 465 Broughton Avenue, Bloomfield, Essex, 07003\n"
     ]
    },
    {
     "name": "stderr",
     "output_type": "stream",
     "text": [
      "https://geocode.arcgis.com:443 \"POST /arcgis/rest/services/World/GeocodeServer/findAddressCandidates HTTP/1.1\" 200 610\n",
      "https://geocode.arcgis.com:443 \"POST /arcgis/rest/services/World/GeocodeServer/findAddressCandidates HTTP/1.1\" 200 806\n",
      "https://geocode.arcgis.com:443 \"POST /arcgis/rest/services/World/GeocodeServer/findAddressCandidates HTTP/1.1\" 200 806\n",
      "https://geocode.arcgis.com:443 \"POST /arcgis/rest/services/World/GeocodeServer/findAddressCandidates HTTP/1.1\" 200 613\n",
      "https://geocode.arcgis.com:443 \"POST /arcgis/rest/services/World/GeocodeServer/findAddressCandidates HTTP/1.1\" 200 613\n",
      "https://geocode.arcgis.com:443 \"POST /arcgis/rest/services/World/GeocodeServer/findAddressCandidates HTTP/1.1\" 200 607\n"
     ]
    },
    {
     "name": "stdout",
     "output_type": "stream",
     "text": [
      "Geocoded 53 Macafee Road, Somerset, Somerset, 08873\n",
      "Geocoded 363 Elizabeth Avenue, Somerset, Somerset, 08873\n",
      "Geocoded 500 Franklin Blvd., Somerset, Somerset, 08873\n"
     ]
    },
    {
     "name": "stderr",
     "output_type": "stream",
     "text": [
      "https://geocode.arcgis.com:443 \"POST /arcgis/rest/services/World/GeocodeServer/findAddressCandidates HTTP/1.1\" 200 607\n",
      "https://geocode.arcgis.com:443 \"POST /arcgis/rest/services/World/GeocodeServer/findAddressCandidates HTTP/1.1\" 200 808\n",
      "https://geocode.arcgis.com:443 \"POST /arcgis/rest/services/World/GeocodeServer/findAddressCandidates HTTP/1.1\" 200 808\n",
      "https://geocode.arcgis.com:443 \"POST /arcgis/rest/services/World/GeocodeServer/findAddressCandidates HTTP/1.1\" 200 595\n",
      "https://geocode.arcgis.com:443 \"POST /arcgis/rest/services/World/GeocodeServer/findAddressCandidates HTTP/1.1\" 200 595\n"
     ]
    },
    {
     "name": "stdout",
     "output_type": "stream",
     "text": [
      "Geocoded 35 Conerly Road, Somerset, Somerset, 08873\n",
      "Geocoded 130 Highland Avenue, Somerset, Somerset, 08873\n",
      "Geocoded 1649 Amwell Rd., Somerset, Somerset, 08873\n"
     ]
    },
    {
     "name": "stderr",
     "output_type": "stream",
     "text": [
      "https://geocode.arcgis.com:443 \"POST /arcgis/rest/services/World/GeocodeServer/findAddressCandidates HTTP/1.1\" 200 614\n",
      "https://geocode.arcgis.com:443 \"POST /arcgis/rest/services/World/GeocodeServer/findAddressCandidates HTTP/1.1\" 200 614\n",
      "https://geocode.arcgis.com:443 \"POST /arcgis/rest/services/World/GeocodeServer/findAddressCandidates HTTP/1.1\" 200 611\n",
      "https://geocode.arcgis.com:443 \"POST /arcgis/rest/services/World/GeocodeServer/findAddressCandidates HTTP/1.1\" 200 611\n",
      "https://geocode.arcgis.com:443 \"POST /arcgis/rest/services/World/GeocodeServer/findAddressCandidates HTTP/1.1\" 200 793\n",
      "https://geocode.arcgis.com:443 \"POST /arcgis/rest/services/World/GeocodeServer/findAddressCandidates HTTP/1.1\" 200 793\n"
     ]
    },
    {
     "name": "stdout",
     "output_type": "stream",
     "text": [
      "Geocoded 30 Eden Street, Somerset, Somerset, 08873\n",
      "Geocoded 13 Westwood Dr., Ewing, Mercer, 08628\n",
      "Geocoded 446 Parkway Avenue, Ewing, Mercer, 08618\n"
     ]
    },
    {
     "name": "stderr",
     "output_type": "stream",
     "text": [
      "https://geocode.arcgis.com:443 \"POST /arcgis/rest/services/World/GeocodeServer/findAddressCandidates HTTP/1.1\" 200 618\n",
      "https://geocode.arcgis.com:443 \"POST /arcgis/rest/services/World/GeocodeServer/findAddressCandidates HTTP/1.1\" 200 618\n",
      "https://geocode.arcgis.com:443 \"POST /arcgis/rest/services/World/GeocodeServer/findAddressCandidates HTTP/1.1\" 200 608\n",
      "https://geocode.arcgis.com:443 \"POST /arcgis/rest/services/World/GeocodeServer/findAddressCandidates HTTP/1.1\" 200 608\n",
      "https://geocode.arcgis.com:443 \"POST /arcgis/rest/services/World/GeocodeServer/findAddressCandidates HTTP/1.1\" 200 620\n",
      "https://geocode.arcgis.com:443 \"POST /arcgis/rest/services/World/GeocodeServer/findAddressCandidates HTTP/1.1\" 200 620\n",
      "https://geocode.arcgis.com:443 \"POST /arcgis/rest/services/World/GeocodeServer/findAddressCandidates HTTP/1.1\" 200 610\n"
     ]
    },
    {
     "name": "stdout",
     "output_type": "stream",
     "text": [
      "Geocoded 1325 Lower Ferry Road, Ewing, Mercer, 08618\n",
      "Geocoded 339 Ewingville Rd., Ewing, Mercer, 08638\n",
      "Geocoded 1100 Coombs Road, Millville, Cumberland, 08332\n"
     ]
    },
    {
     "name": "stderr",
     "output_type": "stream",
     "text": [
      "https://geocode.arcgis.com:443 \"POST /arcgis/rest/services/World/GeocodeServer/findAddressCandidates HTTP/1.1\" 200 610\n",
      "https://geocode.arcgis.com:443 \"POST /arcgis/rest/services/World/GeocodeServer/findAddressCandidates HTTP/1.1\" 200 611\n",
      "https://geocode.arcgis.com:443 \"POST /arcgis/rest/services/World/GeocodeServer/findAddressCandidates HTTP/1.1\" 200 611\n",
      "https://geocode.arcgis.com:443 \"POST /arcgis/rest/services/World/GeocodeServer/findAddressCandidates HTTP/1.1\" 200 625\n",
      "https://geocode.arcgis.com:443 \"POST /arcgis/rest/services/World/GeocodeServer/findAddressCandidates HTTP/1.1\" 200 625\n",
      "https://geocode.arcgis.com:443 \"POST /arcgis/rest/services/World/GeocodeServer/findAddressCandidates HTTP/1.1\" 200 618\n"
     ]
    },
    {
     "name": "stdout",
     "output_type": "stream",
     "text": [
      "Geocoded 185 Paulison Ave, Passaic, Passaic, 07055\n",
      "Geocoded 199 Scoles Ave, Clifton, Passaic, 07012\n",
      "Geocoded 135 Little Gloucester Road, Gloucester Township, Camden, 08012\n"
     ]
    },
    {
     "name": "stderr",
     "output_type": "stream",
     "text": [
      "https://geocode.arcgis.com:443 \"POST /arcgis/rest/services/World/GeocodeServer/findAddressCandidates HTTP/1.1\" 200 618\n",
      "https://geocode.arcgis.com:443 \"POST /arcgis/rest/services/World/GeocodeServer/findAddressCandidates HTTP/1.1\" 200 623\n",
      "https://geocode.arcgis.com:443 \"POST /arcgis/rest/services/World/GeocodeServer/findAddressCandidates HTTP/1.1\" 200 623\n",
      "https://geocode.arcgis.com:443 \"POST /arcgis/rest/services/World/GeocodeServer/findAddressCandidates HTTP/1.1\" 200 809\n"
     ]
    },
    {
     "name": "stdout",
     "output_type": "stream",
     "text": [
      "Geocoded 1300 Jarvis Road, Sicklerville, Camden, 08081\n",
      "Geocoded 260 Blenheim - Erial Road, Blackwood, Camden, 08012\n"
     ]
    },
    {
     "name": "stderr",
     "output_type": "stream",
     "text": [
      "https://geocode.arcgis.com:443 \"POST /arcgis/rest/services/World/GeocodeServer/findAddressCandidates HTTP/1.1\" 200 809\n",
      "https://geocode.arcgis.com:443 \"POST /arcgis/rest/services/World/GeocodeServer/findAddressCandidates HTTP/1.1\" 200 622\n",
      "https://geocode.arcgis.com:443 \"POST /arcgis/rest/services/World/GeocodeServer/findAddressCandidates HTTP/1.1\" 200 622\n",
      "https://geocode.arcgis.com:443 \"POST /arcgis/rest/services/World/GeocodeServer/findAddressCandidates HTTP/1.1\" 200 617\n",
      "https://geocode.arcgis.com:443 \"POST /arcgis/rest/services/World/GeocodeServer/findAddressCandidates HTTP/1.1\" 200 617\n",
      "https://geocode.arcgis.com:443 \"POST /arcgis/rest/services/World/GeocodeServer/findAddressCandidates HTTP/1.1\" 200 607\n"
     ]
    },
    {
     "name": "stdout",
     "output_type": "stream",
     "text": [
      "Geocoded 600 Somerdale Road, Somerdale, Camden, 08083\n",
      "Geocoded 237 W Chestnut Ave, Vineland, Cumberland, 08360\n",
      "Geocoded 20 Essex Avenue, Sicklerville, Camden, 08081\n"
     ]
    },
    {
     "name": "stderr",
     "output_type": "stream",
     "text": [
      "https://geocode.arcgis.com:443 \"POST /arcgis/rest/services/World/GeocodeServer/findAddressCandidates HTTP/1.1\" 200 607\n",
      "https://geocode.arcgis.com:443 \"POST /arcgis/rest/services/World/GeocodeServer/findAddressCandidates HTTP/1.1\" 200 730\n",
      "https://geocode.arcgis.com:443 \"POST /arcgis/rest/services/World/GeocodeServer/findAddressCandidates HTTP/1.1\" 200 730\n",
      "https://geocode.arcgis.com:443 \"POST /arcgis/rest/services/World/GeocodeServer/findAddressCandidates HTTP/1.1\" 200 617\n",
      "https://geocode.arcgis.com:443 \"POST /arcgis/rest/services/World/GeocodeServer/findAddressCandidates HTTP/1.1\" 200 617\n",
      "https://geocode.arcgis.com:443 \"POST /arcgis/rest/services/World/GeocodeServer/findAddressCandidates HTTP/1.1\" 200 619\n"
     ]
    },
    {
     "name": "stdout",
     "output_type": "stream",
     "text": [
      "Geocoded 1275 Williamstown Road, Erial, Camden, 08081\n",
      "Geocoded 201 Station Avenue, Glendora, Camden, 08029\n",
      "Geocoded 180 Lincoln Street, East Orange, Essex, 07017\n"
     ]
    },
    {
     "name": "stderr",
     "output_type": "stream",
     "text": [
      "https://geocode.arcgis.com:443 \"POST /arcgis/rest/services/World/GeocodeServer/findAddressCandidates HTTP/1.1\" 200 619\n",
      "https://geocode.arcgis.com:443 \"POST /arcgis/rest/services/World/GeocodeServer/findAddressCandidates HTTP/1.1\" 200 617\n",
      "https://geocode.arcgis.com:443 \"POST /arcgis/rest/services/World/GeocodeServer/findAddressCandidates HTTP/1.1\" 200 617\n",
      "https://geocode.arcgis.com:443 \"POST /arcgis/rest/services/World/GeocodeServer/findAddressCandidates HTTP/1.1\" 200 614\n",
      "https://geocode.arcgis.com:443 \"POST /arcgis/rest/services/World/GeocodeServer/findAddressCandidates HTTP/1.1\" 200 614\n",
      "https://geocode.arcgis.com:443 \"POST /arcgis/rest/services/World/GeocodeServer/findAddressCandidates HTTP/1.1\" 200 616\n"
     ]
    },
    {
     "name": "stdout",
     "output_type": "stream",
     "text": [
      "Geocoded 98 Greenwood Avenue, East Orange, Essex, 07017\n",
      "Geocoded 129 Renshaw Avenue, East Orange, Essex, 07017\n",
      "Geocoded 116 Hamilton Street, East Orange, Essex, 07017\n"
     ]
    },
    {
     "name": "stderr",
     "output_type": "stream",
     "text": [
      "https://geocode.arcgis.com:443 \"POST /arcgis/rest/services/World/GeocodeServer/findAddressCandidates HTTP/1.1\" 200 616\n",
      "https://geocode.arcgis.com:443 \"POST /arcgis/rest/services/World/GeocodeServer/findAddressCandidates HTTP/1.1\" 200 614\n",
      "https://geocode.arcgis.com:443 \"POST /arcgis/rest/services/World/GeocodeServer/findAddressCandidates HTTP/1.1\" 200 614\n",
      "https://geocode.arcgis.com:443 \"POST /arcgis/rest/services/World/GeocodeServer/findAddressCandidates HTTP/1.1\" 200 623\n",
      "https://geocode.arcgis.com:443 \"POST /arcgis/rest/services/World/GeocodeServer/findAddressCandidates HTTP/1.1\" 200 623\n",
      "https://geocode.arcgis.com:443 \"POST /arcgis/rest/services/World/GeocodeServer/findAddressCandidates HTTP/1.1\" 200 615\n"
     ]
    },
    {
     "name": "stdout",
     "output_type": "stream",
     "text": [
      "Geocoded 159 N Munn Ave, East Orange, Essex, 07017\n",
      "Geocoded 274 Boyden Avenue, Maplewood, Essex, 07040\n",
      "Geocoded 128 Ward Street, Paterson, Passaic, 07505\n"
     ]
    },
    {
     "name": "stderr",
     "output_type": "stream",
     "text": [
      "https://geocode.arcgis.com:443 \"POST /arcgis/rest/services/World/GeocodeServer/findAddressCandidates HTTP/1.1\" 200 615\n",
      "https://geocode.arcgis.com:443 \"POST /arcgis/rest/services/World/GeocodeServer/findAddressCandidates HTTP/1.1\" 200 623\n",
      "https://geocode.arcgis.com:443 \"POST /arcgis/rest/services/World/GeocodeServer/findAddressCandidates HTTP/1.1\" 200 623\n",
      "https://geocode.arcgis.com:443 \"POST /arcgis/rest/services/World/GeocodeServer/findAddressCandidates HTTP/1.1\" 200 782\n",
      "https://geocode.arcgis.com:443 \"POST /arcgis/rest/services/World/GeocodeServer/findAddressCandidates HTTP/1.1\" 200 782\n"
     ]
    },
    {
     "name": "stdout",
     "output_type": "stream",
     "text": [
      "Geocoded 500 E 37th Street, Paterson, Passaic, 07504-1739\n",
      "Geocoded 128 Ward Street, Paterson, Passaic, 07505\n",
      "Geocoded 95 Spring Street, Morristown, Morris, 07960\n"
     ]
    },
    {
     "name": "stderr",
     "output_type": "stream",
     "text": [
      "https://geocode.arcgis.com:443 \"POST /arcgis/rest/services/World/GeocodeServer/findAddressCandidates HTTP/1.1\" 200 613\n",
      "https://geocode.arcgis.com:443 \"POST /arcgis/rest/services/World/GeocodeServer/findAddressCandidates HTTP/1.1\" 200 613\n",
      "https://geocode.arcgis.com:443 \"POST /arcgis/rest/services/World/GeocodeServer/findAddressCandidates HTTP/1.1\" 200 609\n",
      "https://geocode.arcgis.com:443 \"POST /arcgis/rest/services/World/GeocodeServer/findAddressCandidates HTTP/1.1\" 200 609\n",
      "https://geocode.arcgis.com:443 \"POST /arcgis/rest/services/World/GeocodeServer/findAddressCandidates HTTP/1.1\" 200 617\n",
      "https://geocode.arcgis.com:443 \"POST /arcgis/rest/services/World/GeocodeServer/findAddressCandidates HTTP/1.1\" 200 617\n",
      "https://geocode.arcgis.com:443 \"POST /arcgis/rest/services/World/GeocodeServer/findAddressCandidates HTTP/1.1\" 200 613\n"
     ]
    },
    {
     "name": "stdout",
     "output_type": "stream",
     "text": [
      "Geocoded 562 Bergen Avenue, Jersey City, Hudson, 07304\n",
      "Geocoded 1738 Route 37 E, Toms River, Ocean, 08753\n",
      "Geocoded 287 Handy Street, New Brunswick, Middlesex, 08901\n"
     ]
    },
    {
     "name": "stderr",
     "output_type": "stream",
     "text": [
      "https://geocode.arcgis.com:443 \"POST /arcgis/rest/services/World/GeocodeServer/findAddressCandidates HTTP/1.1\" 200 613\n",
      "https://geocode.arcgis.com:443 \"POST /arcgis/rest/services/World/GeocodeServer/findAddressCandidates HTTP/1.1\" 200 616\n",
      "https://geocode.arcgis.com:443 \"POST /arcgis/rest/services/World/GeocodeServer/findAddressCandidates HTTP/1.1\" 200 616\n",
      "https://geocode.arcgis.com:443 \"POST /arcgis/rest/services/World/GeocodeServer/findAddressCandidates HTTP/1.1\" 200 596\n",
      "https://geocode.arcgis.com:443 \"POST /arcgis/rest/services/World/GeocodeServer/findAddressCandidates HTTP/1.1\" 200 596\n",
      "https://geocode.arcgis.com:443 \"POST /arcgis/rest/services/World/GeocodeServer/findAddressCandidates HTTP/1.1\" 200 800\n"
     ]
    },
    {
     "name": "stdout",
     "output_type": "stream",
     "text": [
      "Geocoded 1865 Harrison Ave, Camden, Camden, 08105\n",
      "Geocoded 70 Bunnvale Road, Califon, Hunterdon, 07830\n",
      "Geocoded 400 Route 513, Califon, Hunterdon, 07830\n"
     ]
    },
    {
     "name": "stderr",
     "output_type": "stream",
     "text": [
      "https://geocode.arcgis.com:443 \"POST /arcgis/rest/services/World/GeocodeServer/findAddressCandidates HTTP/1.1\" 200 800\n",
      "https://geocode.arcgis.com:443 \"POST /arcgis/rest/services/World/GeocodeServer/findAddressCandidates HTTP/1.1\" 200 609\n",
      "https://geocode.arcgis.com:443 \"POST /arcgis/rest/services/World/GeocodeServer/findAddressCandidates HTTP/1.1\" 200 609\n",
      "https://geocode.arcgis.com:443 \"POST /arcgis/rest/services/World/GeocodeServer/findAddressCandidates HTTP/1.1\" 200 611\n",
      "https://geocode.arcgis.com:443 \"POST /arcgis/rest/services/World/GeocodeServer/findAddressCandidates HTTP/1.1\" 200 611\n",
      "https://geocode.arcgis.com:443 \"POST /arcgis/rest/services/World/GeocodeServer/findAddressCandidates HTTP/1.1\" 200 796\n"
     ]
    },
    {
     "name": "stdout",
     "output_type": "stream",
     "text": [
      "Geocoded 494-504 Central Avenue, Newark, Essex, 07107\n",
      "Geocoded 755 So. Orange Avenue, Newark, Essex, 07106\n",
      "Geocoded 1100 Warren Street, Roselle, Union, 07203\n"
     ]
    },
    {
     "name": "stderr",
     "output_type": "stream",
     "text": [
      "https://geocode.arcgis.com:443 \"POST /arcgis/rest/services/World/GeocodeServer/findAddressCandidates HTTP/1.1\" 200 796\n",
      "https://geocode.arcgis.com:443 \"POST /arcgis/rest/services/World/GeocodeServer/findAddressCandidates HTTP/1.1\" 200 610\n",
      "https://geocode.arcgis.com:443 \"POST /arcgis/rest/services/World/GeocodeServer/findAddressCandidates HTTP/1.1\" 200 610\n",
      "https://geocode.arcgis.com:443 \"POST /arcgis/rest/services/World/GeocodeServer/findAddressCandidates HTTP/1.1\" 200 610\n",
      "https://geocode.arcgis.com:443 \"POST /arcgis/rest/services/World/GeocodeServer/findAddressCandidates HTTP/1.1\" 200 610\n",
      "https://geocode.arcgis.com:443 \"POST /arcgis/rest/services/World/GeocodeServer/findAddressCandidates HTTP/1.1\" 200 609\n"
     ]
    },
    {
     "name": "stdout",
     "output_type": "stream",
     "text": [
      "Geocoded 501 Washington Ave, Roselle, Union, 07203\n",
      "Geocoded 310 Harrison Ave, Roselle, Union, 07203\n",
      "Geocoded 720 Locust Street, Roselle, Union, 07203\n"
     ]
    },
    {
     "name": "stderr",
     "output_type": "stream",
     "text": [
      "https://geocode.arcgis.com:443 \"POST /arcgis/rest/services/World/GeocodeServer/findAddressCandidates HTTP/1.1\" 200 609\n",
      "https://geocode.arcgis.com:443 \"POST /arcgis/rest/services/World/GeocodeServer/findAddressCandidates HTTP/1.1\" 200 932\n",
      "https://geocode.arcgis.com:443 \"POST /arcgis/rest/services/World/GeocodeServer/findAddressCandidates HTTP/1.1\" 200 932\n",
      "https://geocode.arcgis.com:443 \"POST /arcgis/rest/services/World/GeocodeServer/findAddressCandidates HTTP/1.1\" 200 614\n",
      "https://geocode.arcgis.com:443 \"POST /arcgis/rest/services/World/GeocodeServer/findAddressCandidates HTTP/1.1\" 200 614\n"
     ]
    },
    {
     "name": "stdout",
     "output_type": "stream",
     "text": [
      "Geocoded 1050 Jeanette Ave, Union, Union, 07083\n",
      "Geocoded 150 3rd Avenue, Roselle, Union, 07203\n",
      "Geocoded 201 W. Fourth Street, Plainfield, Union, 07060\n"
     ]
    },
    {
     "name": "stderr",
     "output_type": "stream",
     "text": [
      "https://geocode.arcgis.com:443 \"POST /arcgis/rest/services/World/GeocodeServer/findAddressCandidates HTTP/1.1\" 200 622\n",
      "https://geocode.arcgis.com:443 \"POST /arcgis/rest/services/World/GeocodeServer/findAddressCandidates HTTP/1.1\" 200 622\n",
      "https://geocode.arcgis.com:443 \"POST /arcgis/rest/services/World/GeocodeServer/findAddressCandidates HTTP/1.1\" 200 616\n",
      "https://geocode.arcgis.com:443 \"POST /arcgis/rest/services/World/GeocodeServer/findAddressCandidates HTTP/1.1\" 200 616\n",
      "https://geocode.arcgis.com:443 \"POST /arcgis/rest/services/World/GeocodeServer/findAddressCandidates HTTP/1.1\" 200 611\n",
      "https://geocode.arcgis.com:443 \"POST /arcgis/rest/services/World/GeocodeServer/findAddressCandidates HTTP/1.1\" 200 611\n",
      "https://geocode.arcgis.com:443 \"POST /arcgis/rest/services/World/GeocodeServer/findAddressCandidates HTTP/1.1\" 200 646\n"
     ]
    },
    {
     "name": "stdout",
     "output_type": "stream",
     "text": [
      "Geocoded 155 Van Houten Avenue, Passaic, Passaic, 07055\n",
      "Geocoded 250 Richmond Avenue, Paterson, Passaic, 07502\n",
      "Geocoded 55 Clinton Street, Paterson, Passaic, 07522\n"
     ]
    },
    {
     "name": "stderr",
     "output_type": "stream",
     "text": [
      "https://geocode.arcgis.com:443 \"POST /arcgis/rest/services/World/GeocodeServer/findAddressCandidates HTTP/1.1\" 200 646\n",
      "https://geocode.arcgis.com:443 \"POST /arcgis/rest/services/World/GeocodeServer/findAddressCandidates HTTP/1.1\" 200 1078\n",
      "https://geocode.arcgis.com:443 \"POST /arcgis/rest/services/World/GeocodeServer/findAddressCandidates HTTP/1.1\" 200 1078\n",
      "https://geocode.arcgis.com:443 \"POST /arcgis/rest/services/World/GeocodeServer/findAddressCandidates HTTP/1.1\" 200 616\n",
      "https://geocode.arcgis.com:443 \"POST /arcgis/rest/services/World/GeocodeServer/findAddressCandidates HTTP/1.1\" 200 616\n"
     ]
    },
    {
     "name": "stdout",
     "output_type": "stream",
     "text": [
      "Geocoded 11th Avenue & East 31st Street, Paterson, Passaic, 07514\n",
      "Geocoded 320 Highland Avenue, Passaic, Passaic, 07055\n",
      "Geocoded 204 Shell Road, Carneys Point, Salem, 08069\n"
     ]
    },
    {
     "name": "stderr",
     "output_type": "stream",
     "text": [
      "https://geocode.arcgis.com:443 \"POST /arcgis/rest/services/World/GeocodeServer/findAddressCandidates HTTP/1.1\" 200 631\n",
      "https://geocode.arcgis.com:443 \"POST /arcgis/rest/services/World/GeocodeServer/findAddressCandidates HTTP/1.1\" 200 631\n",
      "https://geocode.arcgis.com:443 \"POST /arcgis/rest/services/World/GeocodeServer/findAddressCandidates HTTP/1.1\" 200 615\n",
      "https://geocode.arcgis.com:443 \"POST /arcgis/rest/services/World/GeocodeServer/findAddressCandidates HTTP/1.1\" 200 615\n",
      "https://geocode.arcgis.com:443 \"POST /arcgis/rest/services/World/GeocodeServer/findAddressCandidates HTTP/1.1\" 200 612\n",
      "https://geocode.arcgis.com:443 \"POST /arcgis/rest/services/World/GeocodeServer/findAddressCandidates HTTP/1.1\" 200 612\n",
      "https://geocode.arcgis.com:443 \"POST /arcgis/rest/services/World/GeocodeServer/findAddressCandidates HTTP/1.1\" 200 607\n"
     ]
    },
    {
     "name": "stdout",
     "output_type": "stream",
     "text": [
      "Geocoded 263 Layfayette Avenue, Cliffside Park, Bergen, 07010\n",
      "Geocoded 500 E 35th Street, Paterson, Passaic, 07504\n",
      "Geocoded 265 Totowa Avenue, Paterson, Passaic, 07502\n"
     ]
    },
    {
     "name": "stderr",
     "output_type": "stream",
     "text": [
      "https://geocode.arcgis.com:443 \"POST /arcgis/rest/services/World/GeocodeServer/findAddressCandidates HTTP/1.1\" 200 607\n",
      "https://geocode.arcgis.com:443 \"POST /arcgis/rest/services/World/GeocodeServer/findAddressCandidates HTTP/1.1\" 200 608\n",
      "https://geocode.arcgis.com:443 \"POST /arcgis/rest/services/World/GeocodeServer/findAddressCandidates HTTP/1.1\" 200 608\n",
      "https://geocode.arcgis.com:443 \"POST /arcgis/rest/services/World/GeocodeServer/findAddressCandidates HTTP/1.1\" 200 612\n",
      "https://geocode.arcgis.com:443 \"POST /arcgis/rest/services/World/GeocodeServer/findAddressCandidates HTTP/1.1\" 200 612\n",
      "https://geocode.arcgis.com:443 \"POST /arcgis/rest/services/World/GeocodeServer/findAddressCandidates HTTP/1.1\" 200 606\n"
     ]
    },
    {
     "name": "stdout",
     "output_type": "stream",
     "text": [
      "Geocoded 155 North Street, Jersey City, Hudson, 07307\n",
      "Geocoded 2 Oxford Ave, Jersey City, Hudson, 07304\n",
      "Geocoded 654 Bergen Ave, Jersey City, Hudson, 07304\n"
     ]
    },
    {
     "name": "stderr",
     "output_type": "stream",
     "text": [
      "https://geocode.arcgis.com:443 \"POST /arcgis/rest/services/World/GeocodeServer/findAddressCandidates HTTP/1.1\" 200 606\n",
      "https://geocode.arcgis.com:443 \"POST /arcgis/rest/services/World/GeocodeServer/findAddressCandidates HTTP/1.1\" 200 610\n",
      "https://geocode.arcgis.com:443 \"POST /arcgis/rest/services/World/GeocodeServer/findAddressCandidates HTTP/1.1\" 200 610\n",
      "https://geocode.arcgis.com:443 \"POST /arcgis/rest/services/World/GeocodeServer/findAddressCandidates HTTP/1.1\" 200 623\n",
      "https://geocode.arcgis.com:443 \"POST /arcgis/rest/services/World/GeocodeServer/findAddressCandidates HTTP/1.1\" 200 623\n",
      "https://geocode.arcgis.com:443 \"POST /arcgis/rest/services/World/GeocodeServer/findAddressCandidates HTTP/1.1\" 200 620\n"
     ]
    },
    {
     "name": "stdout",
     "output_type": "stream",
     "text": [
      "Geocoded 93 Nelson Ave, Jersey City, Hudson, 07307\n",
      "Geocoded 330 Duncan Avenue, Jersey City, Hudson, 07306\n",
      "Geocoded 101 Oliver Street, Paterson, Passaic, 07501\n"
     ]
    },
    {
     "name": "stderr",
     "output_type": "stream",
     "text": [
      "https://geocode.arcgis.com:443 \"POST /arcgis/rest/services/World/GeocodeServer/findAddressCandidates HTTP/1.1\" 200 620\n",
      "https://geocode.arcgis.com:443 \"POST /arcgis/rest/services/World/GeocodeServer/findAddressCandidates HTTP/1.1\" 200 621\n",
      "https://geocode.arcgis.com:443 \"POST /arcgis/rest/services/World/GeocodeServer/findAddressCandidates HTTP/1.1\" 200 621\n",
      "https://geocode.arcgis.com:443 \"POST /arcgis/rest/services/World/GeocodeServer/findAddressCandidates HTTP/1.1\" 200 604\n",
      "https://geocode.arcgis.com:443 \"POST /arcgis/rest/services/World/GeocodeServer/findAddressCandidates HTTP/1.1\" 200 604\n",
      "https://geocode.arcgis.com:443 \"POST /arcgis/rest/services/World/GeocodeServer/findAddressCandidates HTTP/1.1\" 200 610\n"
     ]
    },
    {
     "name": "stdout",
     "output_type": "stream",
     "text": [
      "Geocoded 303 University Ave, Newark, Essex, 07102\n",
      "Geocoded 663 Broadway Luis Munoz Marin, Newark, Essex, 07104\n",
      "Geocoded 345 Broadway, Newark, Essex, 07104\n"
     ]
    },
    {
     "name": "stderr",
     "output_type": "stream",
     "text": [
      "https://geocode.arcgis.com:443 \"POST /arcgis/rest/services/World/GeocodeServer/findAddressCandidates HTTP/1.1\" 200 610\n",
      "https://geocode.arcgis.com:443 \"POST /arcgis/rest/services/World/GeocodeServer/findAddressCandidates HTTP/1.1\" 200 609\n",
      "https://geocode.arcgis.com:443 \"POST /arcgis/rest/services/World/GeocodeServer/findAddressCandidates HTTP/1.1\" 200 609\n",
      "https://geocode.arcgis.com:443 \"POST /arcgis/rest/services/World/GeocodeServer/findAddressCandidates HTTP/1.1\" 200 626\n",
      "https://geocode.arcgis.com:443 \"POST /arcgis/rest/services/World/GeocodeServer/findAddressCandidates HTTP/1.1\" 200 626\n"
     ]
    },
    {
     "name": "stdout",
     "output_type": "stream",
     "text": [
      "Geocoded 59 Wilkinson Avenue, Jersey City, Hudson, 07305\n",
      "Geocoded 135 Stegman St, Jersey City, Hudson, 07305\n",
      "Geocoded 559 Ringwood Avenue, Wanaque, Passaic, 07465\n"
     ]
    },
    {
     "name": "stderr",
     "output_type": "stream",
     "text": [
      "https://geocode.arcgis.com:443 \"POST /arcgis/rest/services/World/GeocodeServer/findAddressCandidates HTTP/1.1\" 200 606\n",
      "https://geocode.arcgis.com:443 \"POST /arcgis/rest/services/World/GeocodeServer/findAddressCandidates HTTP/1.1\" 200 606\n",
      "https://geocode.arcgis.com:443 \"POST /arcgis/rest/services/World/GeocodeServer/findAddressCandidates HTTP/1.1\" 200 609\n",
      "https://geocode.arcgis.com:443 \"POST /arcgis/rest/services/World/GeocodeServer/findAddressCandidates HTTP/1.1\" 200 609\n",
      "https://geocode.arcgis.com:443 \"POST /arcgis/rest/services/World/GeocodeServer/findAddressCandidates HTTP/1.1\" 200 622\n",
      "https://geocode.arcgis.com:443 \"POST /arcgis/rest/services/World/GeocodeServer/findAddressCandidates HTTP/1.1\" 200 622\n",
      "https://geocode.arcgis.com:443 \"POST /arcgis/rest/services/World/GeocodeServer/findAddressCandidates HTTP/1.1\" 200 773\n"
     ]
    },
    {
     "name": "stdout",
     "output_type": "stream",
     "text": [
      "Geocoded 101 Celia Way, Ewing, Mercer, 08628\n",
      "Geocoded 525 Clinton Street, Camden, Camden, 08103\n",
      "Geocoded 2 South Dudley Street, Camden, Camden, 08105-1100\n"
     ]
    },
    {
     "name": "stderr",
     "output_type": "stream",
     "text": [
      "https://geocode.arcgis.com:443 \"POST /arcgis/rest/services/World/GeocodeServer/findAddressCandidates HTTP/1.1\" 200 773\n",
      "https://geocode.arcgis.com:443 \"POST /arcgis/rest/services/World/GeocodeServer/findAddressCandidates HTTP/1.1\" 200 618\n",
      "https://geocode.arcgis.com:443 \"POST /arcgis/rest/services/World/GeocodeServer/findAddressCandidates HTTP/1.1\" 200 618\n",
      "https://geocode.arcgis.com:443 \"POST /arcgis/rest/services/World/GeocodeServer/findAddressCandidates HTTP/1.1\" 200 755\n",
      "https://geocode.arcgis.com:443 \"POST /arcgis/rest/services/World/GeocodeServer/findAddressCandidates HTTP/1.1\" 200 755\n"
     ]
    },
    {
     "name": "stdout",
     "output_type": "stream",
     "text": [
      "Geocoded 901 N Delaware Street, Paulsboro, Gloucester, 08066\n",
      "Geocoded 1225 Kings Highway, Swedesboro, Gloucester, 08085\n",
      "Geocoded 35 Sewell St, Glassboro, Gloucester, 08028\n"
     ]
    },
    {
     "name": "stderr",
     "output_type": "stream",
     "text": [
      "https://geocode.arcgis.com:443 \"POST /arcgis/rest/services/World/GeocodeServer/findAddressCandidates HTTP/1.1\" 200 789\n",
      "https://geocode.arcgis.com:443 \"POST /arcgis/rest/services/World/GeocodeServer/findAddressCandidates HTTP/1.1\" 200 789\n",
      "https://geocode.arcgis.com:443 \"POST /arcgis/rest/services/World/GeocodeServer/findAddressCandidates HTTP/1.1\" 200 808\n",
      "https://geocode.arcgis.com:443 \"POST /arcgis/rest/services/World/GeocodeServer/findAddressCandidates HTTP/1.1\" 200 808\n",
      "https://geocode.arcgis.com:443 \"POST /arcgis/rest/services/World/GeocodeServer/findAddressCandidates HTTP/1.1\" 200 910\n",
      "https://geocode.arcgis.com:443 \"POST /arcgis/rest/services/World/GeocodeServer/findAddressCandidates HTTP/1.1\" 200 910\n",
      "https://geocode.arcgis.com:443 \"POST /arcgis/rest/services/World/GeocodeServer/findAddressCandidates HTTP/1.1\" 200 616\n"
     ]
    },
    {
     "name": "stdout",
     "output_type": "stream",
     "text": [
      "Geocoded 110-112 Cohansey St, Bridgeton, Cumberland, 08302\n",
      "Geocoded 245 Glassboro Rd, Williamstown, Gloucester, 08094\n",
      "Geocoded 116 Elmer St, Vineland, Cumberland, 08360\n"
     ]
    },
    {
     "name": "stderr",
     "output_type": "stream",
     "text": [
      "https://geocode.arcgis.com:443 \"POST /arcgis/rest/services/World/GeocodeServer/findAddressCandidates HTTP/1.1\" 200 616\n",
      "https://geocode.arcgis.com:443 \"POST /arcgis/rest/services/World/GeocodeServer/findAddressCandidates HTTP/1.1\" 200 617\n",
      "https://geocode.arcgis.com:443 \"POST /arcgis/rest/services/World/GeocodeServer/findAddressCandidates HTTP/1.1\" 200 617\n",
      "https://geocode.arcgis.com:443 \"POST /arcgis/rest/services/World/GeocodeServer/findAddressCandidates HTTP/1.1\" 200 620\n"
     ]
    },
    {
     "name": "stdout",
     "output_type": "stream",
     "text": [
      "Geocoded 36 Carpenter St, Woodbury, Gloucester, 08096\n",
      "Geocoded 11 N Broad St, Penns Grove, Salem, 08069\n"
     ]
    },
    {
     "name": "stderr",
     "output_type": "stream",
     "text": [
      "https://geocode.arcgis.com:443 \"POST /arcgis/rest/services/World/GeocodeServer/findAddressCandidates HTTP/1.1\" 200 620\n",
      "https://geocode.arcgis.com:443 \"POST /arcgis/rest/services/World/GeocodeServer/findAddressCandidates HTTP/1.1\" 200 614\n",
      "https://geocode.arcgis.com:443 \"POST /arcgis/rest/services/World/GeocodeServer/findAddressCandidates HTTP/1.1\" 200 614\n",
      "https://geocode.arcgis.com:443 \"POST /arcgis/rest/services/World/GeocodeServer/findAddressCandidates HTTP/1.1\" 200 614\n",
      "https://geocode.arcgis.com:443 \"POST /arcgis/rest/services/World/GeocodeServer/findAddressCandidates HTTP/1.1\" 200 614\n",
      "https://geocode.arcgis.com:443 \"POST /arcgis/rest/services/World/GeocodeServer/findAddressCandidates HTTP/1.1\" 200 765\n"
     ]
    },
    {
     "name": "stdout",
     "output_type": "stream",
     "text": [
      "Geocoded 10 Washington St, Bridgeton, Cumberland, 08302\n",
      "Geocoded 169 Wilfred Ave, Hamilton, Mercer, 08610\n",
      "Geocoded 169 Wilfred Ave, Hamilton, Mercer, 08610\n"
     ]
    },
    {
     "name": "stderr",
     "output_type": "stream",
     "text": [
      "https://geocode.arcgis.com:443 \"POST /arcgis/rest/services/World/GeocodeServer/findAddressCandidates HTTP/1.1\" 200 765\n",
      "https://geocode.arcgis.com:443 \"POST /arcgis/rest/services/World/GeocodeServer/findAddressCandidates HTTP/1.1\" 200 619\n",
      "https://geocode.arcgis.com:443 \"POST /arcgis/rest/services/World/GeocodeServer/findAddressCandidates HTTP/1.1\" 200 619\n",
      "https://geocode.arcgis.com:443 \"POST /arcgis/rest/services/World/GeocodeServer/findAddressCandidates HTTP/1.1\" 200 625\n",
      "https://geocode.arcgis.com:443 \"POST /arcgis/rest/services/World/GeocodeServer/findAddressCandidates HTTP/1.1\" 200 625\n"
     ]
    },
    {
     "name": "stdout",
     "output_type": "stream",
     "text": [
      "Geocoded 1801 East State Street Ext., Hamilton, Mercer, 08609\n",
      "Geocoded 49 South Main Street, Pleasantville, Atlantic, 08232\n",
      "Geocoded 5046 Black Horse Pike, Mayslanding, Atlantic, 08330\n"
     ]
    },
    {
     "name": "stderr",
     "output_type": "stream",
     "text": [
      "https://geocode.arcgis.com:443 \"POST /arcgis/rest/services/World/GeocodeServer/findAddressCandidates HTTP/1.1\" 200 615\n",
      "https://geocode.arcgis.com:443 \"POST /arcgis/rest/services/World/GeocodeServer/findAddressCandidates HTTP/1.1\" 200 615\n",
      "https://geocode.arcgis.com:443 \"POST /arcgis/rest/services/World/GeocodeServer/findAddressCandidates HTTP/1.1\" 200 619\n",
      "https://geocode.arcgis.com:443 \"POST /arcgis/rest/services/World/GeocodeServer/findAddressCandidates HTTP/1.1\" 200 619\n",
      "https://geocode.arcgis.com:443 \"POST /arcgis/rest/services/World/GeocodeServer/findAddressCandidates HTTP/1.1\" 200 615\n",
      "https://geocode.arcgis.com:443 \"POST /arcgis/rest/services/World/GeocodeServer/findAddressCandidates HTTP/1.1\" 200 615\n",
      "https://geocode.arcgis.com:443 \"POST /arcgis/rest/services/World/GeocodeServer/findAddressCandidates HTTP/1.1\" 200 620\n"
     ]
    },
    {
     "name": "stdout",
     "output_type": "stream",
     "text": [
      "Geocoded 1433 Bacharach Boulevard, Atlantic City, Atlantic, 08401\n",
      "Geocoded 287 Townsend Street, New Brunswick, Middlesex, 08901\n",
      "Geocoded 18 Drift Street, New Brunswick, Middlesex, 08901\n"
     ]
    },
    {
     "name": "stderr",
     "output_type": "stream",
     "text": [
      "https://geocode.arcgis.com:443 \"POST /arcgis/rest/services/World/GeocodeServer/findAddressCandidates HTTP/1.1\" 200 620\n",
      "https://geocode.arcgis.com:443 \"POST /arcgis/rest/services/World/GeocodeServer/findAddressCandidates HTTP/1.1\" 200 628\n",
      "https://geocode.arcgis.com:443 \"POST /arcgis/rest/services/World/GeocodeServer/findAddressCandidates HTTP/1.1\" 200 628\n",
      "https://geocode.arcgis.com:443 \"POST /arcgis/rest/services/World/GeocodeServer/findAddressCandidates HTTP/1.1\" 200 616\n",
      "https://geocode.arcgis.com:443 \"POST /arcgis/rest/services/World/GeocodeServer/findAddressCandidates HTTP/1.1\" 200 616\n",
      "https://geocode.arcgis.com:443 \"POST /arcgis/rest/services/World/GeocodeServer/findAddressCandidates HTTP/1.1\" 200 619\n"
     ]
    },
    {
     "name": "stdout",
     "output_type": "stream",
     "text": [
      "Geocoded 83 Livingston Ave, New Brunswick, Middlesex, 08901\n",
      "Geocoded 300 Hoffman Blvd, New Brunswick, Middlesex, 08901\n",
      "Geocoded 323 George Street, New Brunswick, Middlesex, 08901\n"
     ]
    },
    {
     "name": "stderr",
     "output_type": "stream",
     "text": [
      "https://geocode.arcgis.com:443 \"POST /arcgis/rest/services/World/GeocodeServer/findAddressCandidates HTTP/1.1\" 200 619\n",
      "https://geocode.arcgis.com:443 \"POST /arcgis/rest/services/World/GeocodeServer/findAddressCandidates HTTP/1.1\" 200 625\n",
      "https://geocode.arcgis.com:443 \"POST /arcgis/rest/services/World/GeocodeServer/findAddressCandidates HTTP/1.1\" 200 625\n",
      "https://geocode.arcgis.com:443 \"POST /arcgis/rest/services/World/GeocodeServer/findAddressCandidates HTTP/1.1\" 200 620\n",
      "https://geocode.arcgis.com:443 \"POST /arcgis/rest/services/World/GeocodeServer/findAddressCandidates HTTP/1.1\" 200 620\n",
      "https://geocode.arcgis.com:443 \"POST /arcgis/rest/services/World/GeocodeServer/findAddressCandidates HTTP/1.1\" 200 614\n"
     ]
    },
    {
     "name": "stdout",
     "output_type": "stream",
     "text": [
      "Geocoded 1000 Somerset Street, New Brunswick, Middlesex, 08901\n",
      "Geocoded 411 Joyce Kilmer Avenue, New Brunswick, Middlesex, 08901\n",
      "Geocoded 15 Van Dyke Avenue, New Brunswick, Middlesex, 08901\n"
     ]
    },
    {
     "name": "stderr",
     "output_type": "stream",
     "text": [
      "https://geocode.arcgis.com:443 \"POST /arcgis/rest/services/World/GeocodeServer/findAddressCandidates HTTP/1.1\" 200 614\n",
      "https://geocode.arcgis.com:443 \"POST /arcgis/rest/services/World/GeocodeServer/findAddressCandidates HTTP/1.1\" 200 739\n",
      "https://geocode.arcgis.com:443 \"POST /arcgis/rest/services/World/GeocodeServer/findAddressCandidates HTTP/1.1\" 200 739\n",
      "https://geocode.arcgis.com:443 \"POST /arcgis/rest/services/World/GeocodeServer/findAddressCandidates HTTP/1.1\" 200 739\n",
      "https://geocode.arcgis.com:443 \"POST /arcgis/rest/services/World/GeocodeServer/findAddressCandidates HTTP/1.1\" 200 739\n"
     ]
    },
    {
     "name": "stdout",
     "output_type": "stream",
     "text": [
      "Geocoded 764 Grant Ave, Maywood, Bergen, 07607\n",
      "Geocoded Pierrepont Av, Rutherford, Bergen, 07070\n",
      "Geocoded Washington Street, Carlstadt, Bergen, 07072\n"
     ]
    },
    {
     "name": "stderr",
     "output_type": "stream",
     "text": [
      "https://geocode.arcgis.com:443 \"POST /arcgis/rest/services/World/GeocodeServer/findAddressCandidates HTTP/1.1\" 200 606\n",
      "https://geocode.arcgis.com:443 \"POST /arcgis/rest/services/World/GeocodeServer/findAddressCandidates HTTP/1.1\" 200 606\n",
      "https://geocode.arcgis.com:443 \"POST /arcgis/rest/services/World/GeocodeServer/findAddressCandidates HTTP/1.1\" 200 621\n",
      "https://geocode.arcgis.com:443 \"POST /arcgis/rest/services/World/GeocodeServer/findAddressCandidates HTTP/1.1\" 200 621\n",
      "https://geocode.arcgis.com:443 \"POST /arcgis/rest/services/World/GeocodeServer/findAddressCandidates HTTP/1.1\" 200 611\n",
      "https://geocode.arcgis.com:443 \"POST /arcgis/rest/services/World/GeocodeServer/findAddressCandidates HTTP/1.1\" 200 611\n",
      "https://geocode.arcgis.com:443 \"POST /arcgis/rest/services/World/GeocodeServer/findAddressCandidates HTTP/1.1\" 200 618\n"
     ]
    },
    {
     "name": "stdout",
     "output_type": "stream",
     "text": [
      "Geocoded 452 Maywood Ave, Maywood, Bergen, 07607\n",
      "Geocoded 109 Sylvan St, Rutherford, Bergen, 07070\n",
      "Geocoded 89 Wood St, Rutherford, Bergen, 07070\n"
     ]
    },
    {
     "name": "stderr",
     "output_type": "stream",
     "text": [
      "https://geocode.arcgis.com:443 \"POST /arcgis/rest/services/World/GeocodeServer/findAddressCandidates HTTP/1.1\" 200 618\n",
      "https://geocode.arcgis.com:443 \"POST /arcgis/rest/services/World/GeocodeServer/findAddressCandidates HTTP/1.1\" 200 617\n",
      "https://geocode.arcgis.com:443 \"POST /arcgis/rest/services/World/GeocodeServer/findAddressCandidates HTTP/1.1\" 200 617\n",
      "https://geocode.arcgis.com:443 \"POST /arcgis/rest/services/World/GeocodeServer/findAddressCandidates HTTP/1.1\" 200 627\n",
      "https://geocode.arcgis.com:443 \"POST /arcgis/rest/services/World/GeocodeServer/findAddressCandidates HTTP/1.1\" 200 627\n"
     ]
    },
    {
     "name": "stdout",
     "output_type": "stream",
     "text": [
      "Geocoded 414 Montross Ave, Rutherford, Bergen, 07070\n",
      "Geocoded 20 West Park Street, Moonachie, Bergen, 07074\n",
      "Geocoded 390 Murray Hill Parkway, East Rutherford, Bergen, 07073\n"
     ]
    },
    {
     "name": "stderr",
     "output_type": "stream",
     "text": [
      "https://geocode.arcgis.com:443 \"POST /arcgis/rest/services/World/GeocodeServer/findAddressCandidates HTTP/1.1\" 200 612\n",
      "https://geocode.arcgis.com:443 \"POST /arcgis/rest/services/World/GeocodeServer/findAddressCandidates HTTP/1.1\" 200 612\n",
      "https://geocode.arcgis.com:443 \"POST /arcgis/rest/services/World/GeocodeServer/findAddressCandidates HTTP/1.1\" 200 616\n",
      "https://geocode.arcgis.com:443 \"POST /arcgis/rest/services/World/GeocodeServer/findAddressCandidates HTTP/1.1\" 200 616\n",
      "https://geocode.arcgis.com:443 \"POST /arcgis/rest/services/World/GeocodeServer/findAddressCandidates HTTP/1.1\" 200 898\n",
      "https://geocode.arcgis.com:443 \"POST /arcgis/rest/services/World/GeocodeServer/findAddressCandidates HTTP/1.1\" 200 898\n",
      "https://geocode.arcgis.com:443 \"POST /arcgis/rest/services/World/GeocodeServer/findAddressCandidates HTTP/1.1\" 200 614\n"
     ]
    },
    {
     "name": "stdout",
     "output_type": "stream",
     "text": [
      "Geocoded 1122 East Grand Street, Elizabeth, Union, 07201\n",
      "Geocoded 50 York Street, Lambertville, Hunterdon, 08530-2024\n",
      "Geocoded 59 Hamburg Turnpike, Pompton Lakes, Passaic, 07442\n"
     ]
    },
    {
     "name": "stderr",
     "output_type": "stream",
     "text": [
      "https://geocode.arcgis.com:443 \"POST /arcgis/rest/services/World/GeocodeServer/findAddressCandidates HTTP/1.1\" 200 614\n",
      "https://geocode.arcgis.com:443 \"POST /arcgis/rest/services/World/GeocodeServer/findAddressCandidates HTTP/1.1\" 200 614\n",
      "https://geocode.arcgis.com:443 \"POST /arcgis/rest/services/World/GeocodeServer/findAddressCandidates HTTP/1.1\" 200 614\n",
      "https://geocode.arcgis.com:443 \"POST /arcgis/rest/services/World/GeocodeServer/findAddressCandidates HTTP/1.1\" 200 607\n",
      "https://geocode.arcgis.com:443 \"POST /arcgis/rest/services/World/GeocodeServer/findAddressCandidates HTTP/1.1\" 200 607\n"
     ]
    },
    {
     "name": "stdout",
     "output_type": "stream",
     "text": [
      "Geocoded 238 N Munn Ave, East Orange, Essex, 07017\n",
      "Geocoded 182 Van Buren Street, Newark, Essex, 07105\n",
      "Geocoded 1 4th Avenue, East Orange, Essex, 07017\n"
     ]
    },
    {
     "name": "stderr",
     "output_type": "stream",
     "text": [
      "https://geocode.arcgis.com:443 \"POST /arcgis/rest/services/World/GeocodeServer/findAddressCandidates HTTP/1.1\" 200 798\n",
      "https://geocode.arcgis.com:443 \"POST /arcgis/rest/services/World/GeocodeServer/findAddressCandidates HTTP/1.1\" 200 798\n",
      "https://geocode.arcgis.com:443 \"POST /arcgis/rest/services/World/GeocodeServer/findAddressCandidates HTTP/1.1\" 200 614\n",
      "https://geocode.arcgis.com:443 \"POST /arcgis/rest/services/World/GeocodeServer/findAddressCandidates HTTP/1.1\" 200 614\n",
      "https://geocode.arcgis.com:443 \"POST /arcgis/rest/services/World/GeocodeServer/findAddressCandidates HTTP/1.1\" 200 797\n",
      "https://geocode.arcgis.com:443 \"POST /arcgis/rest/services/World/GeocodeServer/findAddressCandidates HTTP/1.1\" 200 797\n"
     ]
    },
    {
     "name": "stdout",
     "output_type": "stream",
     "text": [
      "Geocoded 999-1005 Broad Street, Newark, Essex, 07102\n",
      "Geocoded 302 - 316 16th Avenue, Newark, Essex, 07103\n",
      "Geocoded 177 Central Avenue, Newark, Essex, 07103\n"
     ]
    },
    {
     "name": "stderr",
     "output_type": "stream",
     "text": [
      "https://geocode.arcgis.com:443 \"POST /arcgis/rest/services/World/GeocodeServer/findAddressCandidates HTTP/1.1\" 200 1216\n",
      "https://geocode.arcgis.com:443 \"POST /arcgis/rest/services/World/GeocodeServer/findAddressCandidates HTTP/1.1\" 200 1216\n",
      "https://geocode.arcgis.com:443 \"POST /arcgis/rest/services/World/GeocodeServer/findAddressCandidates HTTP/1.1\" 200 611\n",
      "https://geocode.arcgis.com:443 \"POST /arcgis/rest/services/World/GeocodeServer/findAddressCandidates HTTP/1.1\" 200 611\n",
      "https://geocode.arcgis.com:443 \"POST /arcgis/rest/services/World/GeocodeServer/findAddressCandidates HTTP/1.1\" 200 604\n",
      "https://geocode.arcgis.com:443 \"POST /arcgis/rest/services/World/GeocodeServer/findAddressCandidates HTTP/1.1\" 200 604\n",
      "https://geocode.arcgis.com:443 \"POST /arcgis/rest/services/World/GeocodeServer/findAddressCandidates HTTP/1.1\" 200 609\n"
     ]
    },
    {
     "name": "stdout",
     "output_type": "stream",
     "text": [
      "Geocoded 149 Springfield Avenue, Newark, Essex, 07102\n",
      "Geocoded 120 Manchester Place, Newark, Essex, 07104\n",
      "Geocoded 23 Broadway, Newark, Essex, 07104\n"
     ]
    },
    {
     "name": "stderr",
     "output_type": "stream",
     "text": [
      "https://geocode.arcgis.com:443 \"POST /arcgis/rest/services/World/GeocodeServer/findAddressCandidates HTTP/1.1\" 200 609\n",
      "https://geocode.arcgis.com:443 \"POST /arcgis/rest/services/World/GeocodeServer/findAddressCandidates HTTP/1.1\" 200 594\n",
      "https://geocode.arcgis.com:443 \"POST /arcgis/rest/services/World/GeocodeServer/findAddressCandidates HTTP/1.1\" 200 594\n",
      "https://geocode.arcgis.com:443 \"POST /arcgis/rest/services/World/GeocodeServer/findAddressCandidates HTTP/1.1\" 200 623\n",
      "https://geocode.arcgis.com:443 \"POST /arcgis/rest/services/World/GeocodeServer/findAddressCandidates HTTP/1.1\" 200 623\n"
     ]
    },
    {
     "name": "stdout",
     "output_type": "stream",
     "text": [
      "Geocoded 1 Colonnade Place, Newark, Essex, 07104\n",
      "Geocoded 359 13th Avenue, Newark, Essex, 07103\n",
      "Geocoded 401 South Woods Road, Hillsborough, Somerset, 08844\n"
     ]
    },
    {
     "name": "stderr",
     "output_type": "stream",
     "text": [
      "https://geocode.arcgis.com:443 \"POST /arcgis/rest/services/World/GeocodeServer/findAddressCandidates HTTP/1.1\" 200 617\n",
      "https://geocode.arcgis.com:443 \"POST /arcgis/rest/services/World/GeocodeServer/findAddressCandidates HTTP/1.1\" 200 617\n",
      "https://geocode.arcgis.com:443 \"POST /arcgis/rest/services/World/GeocodeServer/findAddressCandidates HTTP/1.1\" 200 614\n",
      "https://geocode.arcgis.com:443 \"POST /arcgis/rest/services/World/GeocodeServer/findAddressCandidates HTTP/1.1\" 200 614\n",
      "https://geocode.arcgis.com:443 \"POST /arcgis/rest/services/World/GeocodeServer/findAddressCandidates HTTP/1.1\" 200 774\n",
      "https://geocode.arcgis.com:443 \"POST /arcgis/rest/services/World/GeocodeServer/findAddressCandidates HTTP/1.1\" 200 774\n",
      "https://geocode.arcgis.com:443 \"POST /arcgis/rest/services/World/GeocodeServer/findAddressCandidates HTTP/1.1\" 200 759\n"
     ]
    },
    {
     "name": "stdout",
     "output_type": "stream",
     "text": [
      "Geocoded 197 Somerset Street, New Brunswick, Middlesex, 08901\n",
      "Geocoded 12 Flagler Street, Morristown, Morris, 07960\n",
      "Geocoded 718 Teaneck Rd, Teaneck, Bergen, 07666\n"
     ]
    },
    {
     "name": "stderr",
     "output_type": "stream",
     "text": [
      "https://geocode.arcgis.com:443 \"POST /arcgis/rest/services/World/GeocodeServer/findAddressCandidates HTTP/1.1\" 200 759\n",
      "https://geocode.arcgis.com:443 \"POST /arcgis/rest/services/World/GeocodeServer/findAddressCandidates HTTP/1.1\" 200 741\n",
      "https://geocode.arcgis.com:443 \"POST /arcgis/rest/services/World/GeocodeServer/findAddressCandidates HTTP/1.1\" 200 741\n",
      "https://geocode.arcgis.com:443 \"POST /arcgis/rest/services/World/GeocodeServer/findAddressCandidates HTTP/1.1\" 200 622\n",
      "https://geocode.arcgis.com:443 \"POST /arcgis/rest/services/World/GeocodeServer/findAddressCandidates HTTP/1.1\" 200 622\n",
      "https://geocode.arcgis.com:443 \"POST /arcgis/rest/services/World/GeocodeServer/findAddressCandidates HTTP/1.1\" 200 621\n"
     ]
    },
    {
     "name": "stdout",
     "output_type": "stream",
     "text": [
      "Geocoded 372 Witherspoon Street, Princeton, Mercer, 08540\n",
      "Geocoded 58 Riverside Dr, Princeton, Mercer, 08540\n",
      "Geocoded 2939 Princeton Pike, Lawrenceville, Mercer, 08648\n"
     ]
    },
    {
     "name": "stderr",
     "output_type": "stream",
     "text": [
      "https://geocode.arcgis.com:443 \"POST /arcgis/rest/services/World/GeocodeServer/findAddressCandidates HTTP/1.1\" 200 621\n",
      "https://geocode.arcgis.com:443 \"POST /arcgis/rest/services/World/GeocodeServer/findAddressCandidates HTTP/1.1\" 200 619\n",
      "https://geocode.arcgis.com:443 \"POST /arcgis/rest/services/World/GeocodeServer/findAddressCandidates HTTP/1.1\" 200 619\n",
      "https://geocode.arcgis.com:443 \"POST /arcgis/rest/services/World/GeocodeServer/findAddressCandidates HTTP/1.1\" 200 847\n",
      "https://geocode.arcgis.com:443 \"POST /arcgis/rest/services/World/GeocodeServer/findAddressCandidates HTTP/1.1\" 200 847\n"
     ]
    },
    {
     "name": "stdout",
     "output_type": "stream",
     "text": [
      "Geocoded 55 Lawn Park Avenue, Lawrenceville, Mercer, 08648\n",
      "Geocoded 40 Craven Lane, Lawrenceville, Mercer, 08648\n",
      "Geocoded 890 Route 45, Woodstown, Salem, 08098\n"
     ]
    },
    {
     "name": "stderr",
     "output_type": "stream",
     "text": [
      "https://geocode.arcgis.com:443 \"POST /arcgis/rest/services/World/GeocodeServer/findAddressCandidates HTTP/1.1\" 200 618\n",
      "https://geocode.arcgis.com:443 \"POST /arcgis/rest/services/World/GeocodeServer/findAddressCandidates HTTP/1.1\" 200 618\n",
      "https://geocode.arcgis.com:443 \"POST /arcgis/rest/services/World/GeocodeServer/findAddressCandidates HTTP/1.1\" 200 610\n",
      "https://geocode.arcgis.com:443 \"POST /arcgis/rest/services/World/GeocodeServer/findAddressCandidates HTTP/1.1\" 200 610\n",
      "https://geocode.arcgis.com:443 \"POST /arcgis/rest/services/World/GeocodeServer/findAddressCandidates HTTP/1.1\" 200 608\n",
      "https://geocode.arcgis.com:443 \"POST /arcgis/rest/services/World/GeocodeServer/findAddressCandidates HTTP/1.1\" 200 608\n",
      "https://geocode.arcgis.com:443 \"POST /arcgis/rest/services/World/GeocodeServer/findAddressCandidates HTTP/1.1\" 200 613\n"
     ]
    },
    {
     "name": "stdout",
     "output_type": "stream",
     "text": [
      "Geocoded 678 Roosevelt Avenue, Carteret, Middlesex, 07008-2912\n",
      "Geocoded 83 Post Blvd, Carteret, Middlesex, 07008-2912\n",
      "Geocoded 1 Carteret Avenue, Carteret, Middlesex, 07008\n"
     ]
    },
    {
     "name": "stderr",
     "output_type": "stream",
     "text": [
      "https://geocode.arcgis.com:443 \"POST /arcgis/rest/services/World/GeocodeServer/findAddressCandidates HTTP/1.1\" 200 613\n",
      "https://geocode.arcgis.com:443 \"POST /arcgis/rest/services/World/GeocodeServer/findAddressCandidates HTTP/1.1\" 200 618\n",
      "https://geocode.arcgis.com:443 \"POST /arcgis/rest/services/World/GeocodeServer/findAddressCandidates HTTP/1.1\" 200 618\n",
      "https://geocode.arcgis.com:443 \"POST /arcgis/rest/services/World/GeocodeServer/findAddressCandidates HTTP/1.1\" 200 614\n",
      "https://geocode.arcgis.com:443 \"POST /arcgis/rest/services/World/GeocodeServer/findAddressCandidates HTTP/1.1\" 200 614\n",
      "https://geocode.arcgis.com:443 \"POST /arcgis/rest/services/World/GeocodeServer/findAddressCandidates HTTP/1.1\" 200 600\n"
     ]
    },
    {
     "name": "stdout",
     "output_type": "stream",
     "text": [
      "Geocoded 279 Carroll Street, Paterson, Passaic, 07501\n",
      "Geocoded 244 Orchard Road, Skillman, Somerset, 08558\n",
      "Geocoded 100 Main Blvd, Skillman, Somerset, 08558\n"
     ]
    },
    {
     "name": "stderr",
     "output_type": "stream",
     "text": [
      "https://geocode.arcgis.com:443 \"POST /arcgis/rest/services/World/GeocodeServer/findAddressCandidates HTTP/1.1\" 200 600\n",
      "https://geocode.arcgis.com:443 \"POST /arcgis/rest/services/World/GeocodeServer/findAddressCandidates HTTP/1.1\" 200 615\n",
      "https://geocode.arcgis.com:443 \"POST /arcgis/rest/services/World/GeocodeServer/findAddressCandidates HTTP/1.1\" 200 615\n",
      "https://geocode.arcgis.com:443 \"POST /arcgis/rest/services/World/GeocodeServer/findAddressCandidates HTTP/1.1\" 200 616\n",
      "https://geocode.arcgis.com:443 \"POST /arcgis/rest/services/World/GeocodeServer/findAddressCandidates HTTP/1.1\" 200 616\n"
     ]
    },
    {
     "name": "stdout",
     "output_type": "stream",
     "text": [
      "Geocoded 373 Burnt Hill Road, Skillman, Somerset, 08558\n",
      "Geocoded 700 Babcock Road, Mays Landing, Atlantic, 08330\n",
      "Geocoded 5801 Third Street, Mays Landing, Atlantic, 08330\n"
     ]
    },
    {
     "name": "stderr",
     "output_type": "stream",
     "text": [
      "https://geocode.arcgis.com:443 \"POST /arcgis/rest/services/World/GeocodeServer/findAddressCandidates HTTP/1.1\" 200 766\n",
      "https://geocode.arcgis.com:443 \"POST /arcgis/rest/services/World/GeocodeServer/findAddressCandidates HTTP/1.1\" 200 766\n",
      "https://geocode.arcgis.com:443 \"POST /arcgis/rest/services/World/GeocodeServer/findAddressCandidates HTTP/1.1\" 200 613\n",
      "https://geocode.arcgis.com:443 \"POST /arcgis/rest/services/World/GeocodeServer/findAddressCandidates HTTP/1.1\" 200 613\n",
      "https://geocode.arcgis.com:443 \"POST /arcgis/rest/services/World/GeocodeServer/findAddressCandidates HTTP/1.1\" 200 1003\n",
      "https://geocode.arcgis.com:443 \"POST /arcgis/rest/services/World/GeocodeServer/findAddressCandidates HTTP/1.1\" 200 1003\n"
     ]
    },
    {
     "name": "stdout",
     "output_type": "stream",
     "text": [
      "Geocoded 30 Dutch La, Freehold, Monmouth, 07728\n",
      "Geocoded 470 E Freehold Rd, Freehold, Monmouth, 07728\n",
      "Geocoded 47 Jeanne Brennan Drive, Freehold, Monmouth, 07728\n"
     ]
    },
    {
     "name": "stderr",
     "output_type": "stream",
     "text": [
      "https://geocode.arcgis.com:443 \"POST /arcgis/rest/services/World/GeocodeServer/findAddressCandidates HTTP/1.1\" 200 618\n",
      "https://geocode.arcgis.com:443 \"POST /arcgis/rest/services/World/GeocodeServer/findAddressCandidates HTTP/1.1\" 200 618\n",
      "https://geocode.arcgis.com:443 \"POST /arcgis/rest/services/World/GeocodeServer/findAddressCandidates HTTP/1.1\" 200 621\n",
      "https://geocode.arcgis.com:443 \"POST /arcgis/rest/services/World/GeocodeServer/findAddressCandidates HTTP/1.1\" 200 621\n",
      "https://geocode.arcgis.com:443 \"POST /arcgis/rest/services/World/GeocodeServer/findAddressCandidates HTTP/1.1\" 200 619\n",
      "https://geocode.arcgis.com:443 \"POST /arcgis/rest/services/World/GeocodeServer/findAddressCandidates HTTP/1.1\" 200 619\n",
      "https://geocode.arcgis.com:443 \"POST /arcgis/rest/services/World/GeocodeServer/findAddressCandidates HTTP/1.1\" 200 619\n"
     ]
    },
    {
     "name": "stdout",
     "output_type": "stream",
     "text": [
      "Geocoded 275 Burlington Rd, Freehold, Monmouth, 07728\n",
      "Geocoded 271 Elton-Adelphia Rd, Freehold, Monmouth, 07728\n",
      "Geocoded 100 Castronova Way, Freehold, Monmouth, 07728\n"
     ]
    },
    {
     "name": "stderr",
     "output_type": "stream",
     "text": [
      "https://geocode.arcgis.com:443 \"POST /arcgis/rest/services/World/GeocodeServer/findAddressCandidates HTTP/1.1\" 200 619\n",
      "https://geocode.arcgis.com:443 \"POST /arcgis/rest/services/World/GeocodeServer/findAddressCandidates HTTP/1.1\" 200 615\n",
      "https://geocode.arcgis.com:443 \"POST /arcgis/rest/services/World/GeocodeServer/findAddressCandidates HTTP/1.1\" 200 615\n",
      "https://geocode.arcgis.com:443 \"POST /arcgis/rest/services/World/GeocodeServer/findAddressCandidates HTTP/1.1\" 200 621\n",
      "https://geocode.arcgis.com:443 \"POST /arcgis/rest/services/World/GeocodeServer/findAddressCandidates HTTP/1.1\" 200 621\n"
     ]
    },
    {
     "name": "stdout",
     "output_type": "stream",
     "text": [
      "Geocoded 34 Gordon's Corner Road, Englishtown, Monmouth, 07726\n",
      "Geocoded 66 Maxwell La, Englishtown, Monmouth, 07726\n",
      "Geocoded 77 Gordons Corner Rd, Englishtown, Monmouth, 07726\n"
     ]
    },
    {
     "name": "stderr",
     "output_type": "stream",
     "text": [
      "https://geocode.arcgis.com:443 \"POST /arcgis/rest/services/World/GeocodeServer/findAddressCandidates HTTP/1.1\" 200 635\n",
      "https://geocode.arcgis.com:443 \"POST /arcgis/rest/services/World/GeocodeServer/findAddressCandidates HTTP/1.1\" 200 635\n",
      "https://geocode.arcgis.com:443 \"POST /arcgis/rest/services/World/GeocodeServer/findAddressCandidates HTTP/1.1\" 200 623\n",
      "https://geocode.arcgis.com:443 \"POST /arcgis/rest/services/World/GeocodeServer/findAddressCandidates HTTP/1.1\" 200 623\n",
      "https://geocode.arcgis.com:443 \"POST /arcgis/rest/services/World/GeocodeServer/findAddressCandidates HTTP/1.1\" 200 617\n",
      "https://geocode.arcgis.com:443 \"POST /arcgis/rest/services/World/GeocodeServer/findAddressCandidates HTTP/1.1\" 200 617\n",
      "https://geocode.arcgis.com:443 \"POST /arcgis/rest/services/World/GeocodeServer/findAddressCandidates HTTP/1.1\" 200 618\n"
     ]
    },
    {
     "name": "stdout",
     "output_type": "stream",
     "text": [
      "Geocoded 18 Schoolhouse La, Clarksburg, Monmouth, 08510\n",
      "Geocoded 237 Stonehurst Blvd, Freehold, Monmouth, 07728\n",
      "Geocoded 20 Globar Terrace, Manalapan, Monmouth, 07726\n"
     ]
    },
    {
     "name": "stderr",
     "output_type": "stream",
     "text": [
      "https://geocode.arcgis.com:443 \"POST /arcgis/rest/services/World/GeocodeServer/findAddressCandidates HTTP/1.1\" 200 618\n",
      "https://geocode.arcgis.com:443 \"POST /arcgis/rest/services/World/GeocodeServer/findAddressCandidates HTTP/1.1\" 200 620\n",
      "https://geocode.arcgis.com:443 \"POST /arcgis/rest/services/World/GeocodeServer/findAddressCandidates HTTP/1.1\" 200 620\n",
      "https://geocode.arcgis.com:443 \"POST /arcgis/rest/services/World/GeocodeServer/findAddressCandidates HTTP/1.1\" 200 615\n",
      "https://geocode.arcgis.com:443 \"POST /arcgis/rest/services/World/GeocodeServer/findAddressCandidates HTTP/1.1\" 200 615\n"
     ]
    },
    {
     "name": "stdout",
     "output_type": "stream",
     "text": [
      "Geocoded 118 Millhurst Rd, Manalapan, Monmouth, 07726\n",
      "Geocoded 41 Center Street Suite 2, Freehold, Monmouth, 07728\n",
      "Geocoded 2200 Kennedy Boulevard, Union City, Hudson, 07087\n"
     ]
    },
    {
     "name": "stderr",
     "output_type": "stream",
     "text": [
      "https://geocode.arcgis.com:443 \"POST /arcgis/rest/services/World/GeocodeServer/findAddressCandidates HTTP/1.1\" 200 787\n",
      "https://geocode.arcgis.com:443 \"POST /arcgis/rest/services/World/GeocodeServer/findAddressCandidates HTTP/1.1\" 200 787\n",
      "https://geocode.arcgis.com:443 \"POST /arcgis/rest/services/World/GeocodeServer/findAddressCandidates HTTP/1.1\" 200 603\n",
      "https://geocode.arcgis.com:443 \"POST /arcgis/rest/services/World/GeocodeServer/findAddressCandidates HTTP/1.1\" 200 603\n",
      "https://geocode.arcgis.com:443 \"POST /arcgis/rest/services/World/GeocodeServer/findAddressCandidates HTTP/1.1\" 200 610\n",
      "https://geocode.arcgis.com:443 \"POST /arcgis/rest/services/World/GeocodeServer/findAddressCandidates HTTP/1.1\" 200 610\n",
      "https://geocode.arcgis.com:443 \"POST /arcgis/rest/services/World/GeocodeServer/findAddressCandidates HTTP/1.1\" 200 611\n"
     ]
    },
    {
     "name": "stdout",
     "output_type": "stream",
     "text": [
      "Geocoded 739 Leland Ave, Plainfield, Union, 07062\n",
      "Geocoded 1 Avon Avenue, Newark, Essex, 07108\n",
      "Geocoded 230 Halsey Street, Newark, Essex, 07102\n"
     ]
    },
    {
     "name": "stderr",
     "output_type": "stream",
     "text": [
      "https://geocode.arcgis.com:443 \"POST /arcgis/rest/services/World/GeocodeServer/findAddressCandidates HTTP/1.1\" 200 611\n",
      "https://geocode.arcgis.com:443 \"POST /arcgis/rest/services/World/GeocodeServer/findAddressCandidates HTTP/1.1\" 200 611\n",
      "https://geocode.arcgis.com:443 \"POST /arcgis/rest/services/World/GeocodeServer/findAddressCandidates HTTP/1.1\" 200 611\n",
      "https://geocode.arcgis.com:443 \"POST /arcgis/rest/services/World/GeocodeServer/findAddressCandidates HTTP/1.1\" 200 614\n",
      "https://geocode.arcgis.com:443 \"POST /arcgis/rest/services/World/GeocodeServer/findAddressCandidates HTTP/1.1\" 200 614\n",
      "https://geocode.arcgis.com:443 \"POST /arcgis/rest/services/World/GeocodeServer/findAddressCandidates HTTP/1.1\" 200 746\n"
     ]
    },
    {
     "name": "stdout",
     "output_type": "stream",
     "text": [
      "Geocoded 333 Clinton Place, Newark, Essex, 07112\n",
      "Geocoded 103 Bragaw Avenue, Newark, Essex, 07112\n",
      "Geocoded 61 Myrtle Street, Cranford, Union, 07016\n"
     ]
    },
    {
     "name": "stderr",
     "output_type": "stream",
     "text": [
      "https://geocode.arcgis.com:443 \"POST /arcgis/rest/services/World/GeocodeServer/findAddressCandidates HTTP/1.1\" 200 746\n",
      "https://geocode.arcgis.com:443 \"POST /arcgis/rest/services/World/GeocodeServer/findAddressCandidates HTTP/1.1\" 200 605\n",
      "https://geocode.arcgis.com:443 \"POST /arcgis/rest/services/World/GeocodeServer/findAddressCandidates HTTP/1.1\" 200 605\n",
      "https://geocode.arcgis.com:443 \"POST /arcgis/rest/services/World/GeocodeServer/findAddressCandidates HTTP/1.1\" 200 615\n",
      "https://geocode.arcgis.com:443 \"POST /arcgis/rest/services/World/GeocodeServer/findAddressCandidates HTTP/1.1\" 200 615\n",
      "https://geocode.arcgis.com:443 \"POST /arcgis/rest/services/World/GeocodeServer/findAddressCandidates HTTP/1.1\" 200 611\n"
     ]
    },
    {
     "name": "stdout",
     "output_type": "stream",
     "text": [
      "Geocoded 500 Wescott Dr, Flemington, Hunterdon, 08822\n",
      "Geocoded 158 Erie Street, Jersey City, Hudson, 07302\n",
      "Geocoded 193 Old Bergen Road, Jersey City, Hudson, 07305\n"
     ]
    },
    {
     "name": "stderr",
     "output_type": "stream",
     "text": [
      "https://geocode.arcgis.com:443 \"POST /arcgis/rest/services/World/GeocodeServer/findAddressCandidates HTTP/1.1\" 200 611\n",
      "https://geocode.arcgis.com:443 \"POST /arcgis/rest/services/World/GeocodeServer/findAddressCandidates HTTP/1.1\" 200 608\n",
      "https://geocode.arcgis.com:443 \"POST /arcgis/rest/services/World/GeocodeServer/findAddressCandidates HTTP/1.1\" 200 608\n",
      "https://geocode.arcgis.com:443 \"POST /arcgis/rest/services/World/GeocodeServer/findAddressCandidates HTTP/1.1\" 200 628\n",
      "https://geocode.arcgis.com:443 \"POST /arcgis/rest/services/World/GeocodeServer/findAddressCandidates HTTP/1.1\" 200 628\n",
      "https://geocode.arcgis.com:443 \"POST /arcgis/rest/services/World/GeocodeServer/findAddressCandidates HTTP/1.1\" 200 624\n"
     ]
    },
    {
     "name": "stdout",
     "output_type": "stream",
     "text": [
      "Geocoded 50 Clinton Ave, Jersey City, Hudson, 07304\n",
      "Geocoded 27 Fisk Street, Jersey City, Hudson, 07305\n",
      "Geocoded 160 5th Street, Jersey City, Hudson, 07302\n"
     ]
    },
    {
     "name": "stderr",
     "output_type": "stream",
     "text": [
      "https://geocode.arcgis.com:443 \"POST /arcgis/rest/services/World/GeocodeServer/findAddressCandidates HTTP/1.1\" 200 624\n",
      "https://geocode.arcgis.com:443 \"POST /arcgis/rest/services/World/GeocodeServer/findAddressCandidates HTTP/1.1\" 200 621\n",
      "https://geocode.arcgis.com:443 \"POST /arcgis/rest/services/World/GeocodeServer/findAddressCandidates HTTP/1.1\" 200 621\n",
      "https://geocode.arcgis.com:443 \"POST /arcgis/rest/services/World/GeocodeServer/findAddressCandidates HTTP/1.1\" 200 614\n",
      "https://geocode.arcgis.com:443 \"POST /arcgis/rest/services/World/GeocodeServer/findAddressCandidates HTTP/1.1\" 200 614\n",
      "https://geocode.arcgis.com:443 \"POST /arcgis/rest/services/World/GeocodeServer/findAddressCandidates HTTP/1.1\" 200 1063\n"
     ]
    },
    {
     "name": "stdout",
     "output_type": "stream",
     "text": [
      "Geocoded 300 W Ste Wart Street, Washington Boro, Warren, 07882\n",
      "Geocoded 16-24 Taylor Street, Washington Boro, Warren, 07882\n",
      "Geocoded 1137 Globe Avenue, Mountainside, Union, 07092\n"
     ]
    },
    {
     "name": "stderr",
     "output_type": "stream",
     "text": [
      "https://geocode.arcgis.com:443 \"POST /arcgis/rest/services/World/GeocodeServer/findAddressCandidates HTTP/1.1\" 200 1063\n",
      "https://geocode.arcgis.com:443 \"POST /arcgis/rest/services/World/GeocodeServer/findAddressCandidates HTTP/1.1\" 200 622\n",
      "https://geocode.arcgis.com:443 \"POST /arcgis/rest/services/World/GeocodeServer/findAddressCandidates HTTP/1.1\" 200 622\n",
      "https://geocode.arcgis.com:443 \"POST /arcgis/rest/services/World/GeocodeServer/findAddressCandidates HTTP/1.1\" 200 1054\n",
      "https://geocode.arcgis.com:443 \"POST /arcgis/rest/services/World/GeocodeServer/findAddressCandidates HTTP/1.1\" 200 1054\n",
      "https://geocode.arcgis.com:443 \"POST /arcgis/rest/services/World/GeocodeServer/findAddressCandidates HTTP/1.1\" 200 613\n"
     ]
    },
    {
     "name": "stdout",
     "output_type": "stream",
     "text": [
      "Geocoded 51 E 18th Street, Paterson, Passaic, 07501\n",
      "Geocoded 390 Van Houten Ave, Passaic, Passaic, 07055\n",
      "Geocoded 14-20 Hudson Street, Passaic, Passaic, 07055\n"
     ]
    },
    {
     "name": "stderr",
     "output_type": "stream",
     "text": [
      "https://geocode.arcgis.com:443 \"POST /arcgis/rest/services/World/GeocodeServer/findAddressCandidates HTTP/1.1\" 200 613\n",
      "https://geocode.arcgis.com:443 \"POST /arcgis/rest/services/World/GeocodeServer/findAddressCandidates HTTP/1.1\" 200 610\n",
      "https://geocode.arcgis.com:443 \"POST /arcgis/rest/services/World/GeocodeServer/findAddressCandidates HTTP/1.1\" 200 610\n",
      "https://geocode.arcgis.com:443 \"POST /arcgis/rest/services/World/GeocodeServer/findAddressCandidates HTTP/1.1\" 200 631\n",
      "https://geocode.arcgis.com:443 \"POST /arcgis/rest/services/World/GeocodeServer/findAddressCandidates HTTP/1.1\" 200 631\n"
     ]
    },
    {
     "name": "stdout",
     "output_type": "stream",
     "text": [
      "Geocoded 48 Mercer Street, Paterson, Passaic, 07524\n",
      "Geocoded 264 21st Ave, Paterson, Passaic, 07501\n",
      "Geocoded 1003 Turnerville Road, Pine Hill, Camden, 08021\n"
     ]
    },
    {
     "name": "stderr",
     "output_type": "stream",
     "text": [
      "https://geocode.arcgis.com:443 \"POST /arcgis/rest/services/World/GeocodeServer/findAddressCandidates HTTP/1.1\" 200 620\n",
      "https://geocode.arcgis.com:443 \"POST /arcgis/rest/services/World/GeocodeServer/findAddressCandidates HTTP/1.1\" 200 620\n",
      "https://geocode.arcgis.com:443 \"POST /arcgis/rest/services/World/GeocodeServer/findAddressCandidates HTTP/1.1\" 200 1002\n",
      "https://geocode.arcgis.com:443 \"POST /arcgis/rest/services/World/GeocodeServer/findAddressCandidates HTTP/1.1\" 200 1002\n"
     ]
    },
    {
     "name": "stdout",
     "output_type": "stream",
     "text": [
      "Geocoded 70 East 3rd Avenue, Pine Hill, Camden, 08021\n",
      "Geocoded Folwell Elementary School, Mount Holly, Burlington, 08060\n"
     ]
    },
    {
     "name": "stderr",
     "output_type": "stream",
     "text": [
      "https://geocode.arcgis.com:443 \"POST /arcgis/rest/services/World/GeocodeServer/findAddressCandidates HTTP/1.1\" 200 641\n",
      "https://geocode.arcgis.com:443 \"POST /arcgis/rest/services/World/GeocodeServer/findAddressCandidates HTTP/1.1\" 200 641\n",
      "https://geocode.arcgis.com:443 \"POST /arcgis/rest/services/World/GeocodeServer/findAddressCandidates HTTP/1.1\" 200 620\n",
      "https://geocode.arcgis.com:443 \"POST /arcgis/rest/services/World/GeocodeServer/findAddressCandidates HTTP/1.1\" 200 620\n",
      "https://geocode.arcgis.com:443 \"POST /arcgis/rest/services/World/GeocodeServer/findAddressCandidates HTTP/1.1\" 200 619\n",
      "https://geocode.arcgis.com:443 \"POST /arcgis/rest/services/World/GeocodeServer/findAddressCandidates HTTP/1.1\" 200 619\n"
     ]
    },
    {
     "name": "stdout",
     "output_type": "stream",
     "text": [
      "Geocoded Holbein Middle School, Mount Holly, Burlington, 08060\n",
      "Geocoded 100 Baird Avenue, Paulsboro, Gloucester, 08066\n",
      "Geocoded 339 N 11th Street, Prospect Park, Passaic, 07508\n"
     ]
    },
    {
     "name": "stderr",
     "output_type": "stream",
     "text": [
      "https://geocode.arcgis.com:443 \"POST /arcgis/rest/services/World/GeocodeServer/findAddressCandidates HTTP/1.1\" 200 620\n",
      "https://geocode.arcgis.com:443 \"POST /arcgis/rest/services/World/GeocodeServer/findAddressCandidates HTTP/1.1\" 200 620\n",
      "https://geocode.arcgis.com:443 \"POST /arcgis/rest/services/World/GeocodeServer/findAddressCandidates HTTP/1.1\" 200 619\n",
      "https://geocode.arcgis.com:443 \"POST /arcgis/rest/services/World/GeocodeServer/findAddressCandidates HTTP/1.1\" 200 619\n",
      "https://geocode.arcgis.com:443 \"POST /arcgis/rest/services/World/GeocodeServer/findAddressCandidates HTTP/1.1\" 200 614\n",
      "https://geocode.arcgis.com:443 \"POST /arcgis/rest/services/World/GeocodeServer/findAddressCandidates HTTP/1.1\" 200 614\n",
      "https://geocode.arcgis.com:443 \"POST /arcgis/rest/services/World/GeocodeServer/findAddressCandidates HTTP/1.1\" 200 611\n"
     ]
    },
    {
     "name": "stdout",
     "output_type": "stream",
     "text": [
      "Geocoded 240 Walnut Street, Bridgeton, Cumberland, 08302\n",
      "Geocoded 1301 Springdale Rd, Cherry Hill, Camden, 08003\n",
      "Geocoded 90 Carnie Blvd, Voorhees, Camden, 08043\n"
     ]
    },
    {
     "name": "stderr",
     "output_type": "stream",
     "text": [
      "https://geocode.arcgis.com:443 \"POST /arcgis/rest/services/World/GeocodeServer/findAddressCandidates HTTP/1.1\" 200 611\n",
      "https://geocode.arcgis.com:443 \"POST /arcgis/rest/services/World/GeocodeServer/findAddressCandidates HTTP/1.1\" 200 608\n",
      "https://geocode.arcgis.com:443 \"POST /arcgis/rest/services/World/GeocodeServer/findAddressCandidates HTTP/1.1\" 200 608\n",
      "https://geocode.arcgis.com:443 \"POST /arcgis/rest/services/World/GeocodeServer/findAddressCandidates HTTP/1.1\" 200 618\n",
      "https://geocode.arcgis.com:443 \"POST /arcgis/rest/services/World/GeocodeServer/findAddressCandidates HTTP/1.1\" 200 618\n"
     ]
    },
    {
     "name": "stdout",
     "output_type": "stream",
     "text": [
      "Geocoded 282 Church Street, Aberdeen, Monmouth, 07747\n",
      "Geocoded 401 Lloyd Rd, Matawan, Monmouth, 07747\n",
      "Geocoded 332 Hance Avenue, Tinton Falls, Monmouth, 07724\n"
     ]
    },
    {
     "name": "stderr",
     "output_type": "stream",
     "text": [
      "https://geocode.arcgis.com:443 \"POST /arcgis/rest/services/World/GeocodeServer/findAddressCandidates HTTP/1.1\" 200 902\n",
      "https://geocode.arcgis.com:443 \"POST /arcgis/rest/services/World/GeocodeServer/findAddressCandidates HTTP/1.1\" 200 902\n",
      "https://geocode.arcgis.com:443 \"POST /arcgis/rest/services/World/GeocodeServer/findAddressCandidates HTTP/1.1\" 200 601\n",
      "https://geocode.arcgis.com:443 \"POST /arcgis/rest/services/World/GeocodeServer/findAddressCandidates HTTP/1.1\" 200 601\n",
      "https://geocode.arcgis.com:443 \"POST /arcgis/rest/services/World/GeocodeServer/findAddressCandidates HTTP/1.1\" 200 616\n",
      "https://geocode.arcgis.com:443 \"POST /arcgis/rest/services/World/GeocodeServer/findAddressCandidates HTTP/1.1\" 200 616\n",
      "https://geocode.arcgis.com:443 \"POST /arcgis/rest/services/World/GeocodeServer/findAddressCandidates HTTP/1.1\" 200 617\n"
     ]
    },
    {
     "name": "stdout",
     "output_type": "stream",
     "text": [
      "Geocoded 1110 Highway No 71, Spring Lake Heights, Monmouth, 07762\n",
      "Geocoded 360 Navesink Avenue, Highlands, Monmouth, 07732\n",
      "Geocoded 20 Obre Place, Shrewsbury, Monmouth, 07702\n"
     ]
    },
    {
     "name": "stderr",
     "output_type": "stream",
     "text": [
      "https://geocode.arcgis.com:443 \"POST /arcgis/rest/services/World/GeocodeServer/findAddressCandidates HTTP/1.1\" 200 617\n",
      "https://geocode.arcgis.com:443 \"POST /arcgis/rest/services/World/GeocodeServer/findAddressCandidates HTTP/1.1\" 200 785\n",
      "https://geocode.arcgis.com:443 \"POST /arcgis/rest/services/World/GeocodeServer/findAddressCandidates HTTP/1.1\" 200 785\n",
      "https://geocode.arcgis.com:443 \"POST /arcgis/rest/services/World/GeocodeServer/findAddressCandidates HTTP/1.1\" 200 890\n",
      "https://geocode.arcgis.com:443 \"POST /arcgis/rest/services/World/GeocodeServer/findAddressCandidates HTTP/1.1\" 200 890\n"
     ]
    },
    {
     "name": "stdout",
     "output_type": "stream",
     "text": [
      "Geocoded 25 Willow Street, Fair Haven, Monmouth, 07704\n",
      "Geocoded 140 First Avenue, Atlantic Highlands, Monmouth, 07716\n",
      "Geocoded 1 Crest Way, Aberdeen, Monmouth, 07747\n"
     ]
    },
    {
     "name": "stderr",
     "output_type": "stream",
     "text": [
      "https://geocode.arcgis.com:443 \"POST /arcgis/rest/services/World/GeocodeServer/findAddressCandidates HTTP/1.1\" 200 783\n",
      "https://geocode.arcgis.com:443 \"POST /arcgis/rest/services/World/GeocodeServer/findAddressCandidates HTTP/1.1\" 200 783\n",
      "https://geocode.arcgis.com:443 \"POST /arcgis/rest/services/World/GeocodeServer/findAddressCandidates HTTP/1.1\" 200 790\n",
      "https://geocode.arcgis.com:443 \"POST /arcgis/rest/services/World/GeocodeServer/findAddressCandidates HTTP/1.1\" 200 790\n",
      "https://geocode.arcgis.com:443 \"POST /arcgis/rest/services/World/GeocodeServer/findAddressCandidates HTTP/1.1\" 200 614\n",
      "https://geocode.arcgis.com:443 \"POST /arcgis/rest/services/World/GeocodeServer/findAddressCandidates HTTP/1.1\" 200 614\n"
     ]
    },
    {
     "name": "stdout",
     "output_type": "stream",
     "text": [
      "Geocoded 222 River Street, Red Bank, Monmouth, 07701\n",
      "Geocoded 20 Parker Rd, West Long Branch, Monmouth, 07764\n",
      "Geocoded 170 Ravine Dr, Matawan, Monmouth, 07747\n"
     ]
    },
    {
     "name": "stderr",
     "output_type": "stream",
     "text": [
      "https://geocode.arcgis.com:443 \"POST /arcgis/rest/services/World/GeocodeServer/findAddressCandidates HTTP/1.1\" 200 794\n",
      "https://geocode.arcgis.com:443 \"POST /arcgis/rest/services/World/GeocodeServer/findAddressCandidates HTTP/1.1\" 200 794\n",
      "https://geocode.arcgis.com:443 \"POST /arcgis/rest/services/World/GeocodeServer/findAddressCandidates HTTP/1.1\" 200 614\n",
      "https://geocode.arcgis.com:443 \"POST /arcgis/rest/services/World/GeocodeServer/findAddressCandidates HTTP/1.1\" 200 614\n",
      "https://geocode.arcgis.com:443 \"POST /arcgis/rest/services/World/GeocodeServer/findAddressCandidates HTTP/1.1\" 200 615\n",
      "https://geocode.arcgis.com:443 \"POST /arcgis/rest/services/World/GeocodeServer/findAddressCandidates HTTP/1.1\" 200 615\n",
      "https://geocode.arcgis.com:443 \"POST /arcgis/rest/services/World/GeocodeServer/findAddressCandidates HTTP/1.1\" 200 622\n"
     ]
    },
    {
     "name": "stdout",
     "output_type": "stream",
     "text": [
      "Geocoded 201 Broad Street, Matawan, Monmouth, 07747\n",
      "Geocoded 14 Hosford Avenue, Leonardo, Monmouth, 07737\n",
      "Geocoded 202 Main Street, Port Monmouth, Monmouth, 07758\n"
     ]
    },
    {
     "name": "stderr",
     "output_type": "stream",
     "text": [
      "https://geocode.arcgis.com:443 \"POST /arcgis/rest/services/World/GeocodeServer/findAddressCandidates HTTP/1.1\" 200 622\n",
      "https://geocode.arcgis.com:443 \"POST /arcgis/rest/services/World/GeocodeServer/findAddressCandidates HTTP/1.1\" 200 614\n",
      "https://geocode.arcgis.com:443 \"POST /arcgis/rest/services/World/GeocodeServer/findAddressCandidates HTTP/1.1\" 200 614\n",
      "https://geocode.arcgis.com:443 \"POST /arcgis/rest/services/World/GeocodeServer/findAddressCandidates HTTP/1.1\" 200 625\n",
      "https://geocode.arcgis.com:443 \"POST /arcgis/rest/services/World/GeocodeServer/findAddressCandidates HTTP/1.1\" 200 625\n",
      "https://geocode.arcgis.com:443 \"POST /arcgis/rest/services/World/GeocodeServer/findAddressCandidates HTTP/1.1\" 200 615\n"
     ]
    },
    {
     "name": "stdout",
     "output_type": "stream",
     "text": [
      "Geocoded 729 Newman Springs Road, Lincroft, Monmouth, 07738\n",
      "Geocoded 155 Hubbard Avenue, Red Bank, Monmouth, 07701\n",
      "Geocoded 300 Leonardville Road, Belford, Monmouth, 07718\n"
     ]
    },
    {
     "name": "stderr",
     "output_type": "stream",
     "text": [
      "https://geocode.arcgis.com:443 \"POST /arcgis/rest/services/World/GeocodeServer/findAddressCandidates HTTP/1.1\" 200 615\n",
      "https://geocode.arcgis.com:443 \"POST /arcgis/rest/services/World/GeocodeServer/findAddressCandidates HTTP/1.1\" 200 614\n",
      "https://geocode.arcgis.com:443 \"POST /arcgis/rest/services/World/GeocodeServer/findAddressCandidates HTTP/1.1\" 200 614\n",
      "https://geocode.arcgis.com:443 \"POST /arcgis/rest/services/World/GeocodeServer/findAddressCandidates HTTP/1.1\" 200 628\n",
      "https://geocode.arcgis.com:443 \"POST /arcgis/rest/services/World/GeocodeServer/findAddressCandidates HTTP/1.1\" 200 628\n",
      "https://geocode.arcgis.com:443 \"POST /arcgis/rest/services/World/GeocodeServer/findAddressCandidates HTTP/1.1\" 200 623\n"
     ]
    },
    {
     "name": "stdout",
     "output_type": "stream",
     "text": [
      "Geocoded 100 Murphy Road, Middletown, Monmouth, 07748\n",
      "Geocoded 230 Cooper Road, Red Bank, Monmouth, 07701\n",
      "Geocoded 925 Nutswamp Road, Middletown, Monmouth, 07748\n"
     ]
    },
    {
     "name": "stderr",
     "output_type": "stream",
     "text": [
      "https://geocode.arcgis.com:443 \"POST /arcgis/rest/services/World/GeocodeServer/findAddressCandidates HTTP/1.1\" 200 623\n",
      "https://geocode.arcgis.com:443 \"POST /arcgis/rest/services/World/GeocodeServer/findAddressCandidates HTTP/1.1\" 200 787\n",
      "https://geocode.arcgis.com:443 \"POST /arcgis/rest/services/World/GeocodeServer/findAddressCandidates HTTP/1.1\" 200 787\n",
      "https://geocode.arcgis.com:443 \"POST /arcgis/rest/services/World/GeocodeServer/findAddressCandidates HTTP/1.1\" 200 612\n",
      "https://geocode.arcgis.com:443 \"POST /arcgis/rest/services/World/GeocodeServer/findAddressCandidates HTTP/1.1\" 200 612\n"
     ]
    },
    {
     "name": "stdout",
     "output_type": "stream",
     "text": [
      "Geocoded 151 Monmouth Avenue, Atlantic Highlands, Monmouth, 07716\n",
      "Geocoded 147 Kings Highway, Middletown, Monmouth, 07748\n",
      "Geocoded 121 New Monmouth Road, Middletown, Monmouth, 07748\n"
     ]
    },
    {
     "name": "stderr",
     "output_type": "stream",
     "text": [
      "https://geocode.arcgis.com:443 \"POST /arcgis/rest/services/World/GeocodeServer/findAddressCandidates HTTP/1.1\" 200 621\n",
      "https://geocode.arcgis.com:443 \"POST /arcgis/rest/services/World/GeocodeServer/findAddressCandidates HTTP/1.1\" 200 621\n",
      "https://geocode.arcgis.com:443 \"POST /arcgis/rest/services/World/GeocodeServer/findAddressCandidates HTTP/1.1\" 200 623\n",
      "https://geocode.arcgis.com:443 \"POST /arcgis/rest/services/World/GeocodeServer/findAddressCandidates HTTP/1.1\" 200 623\n",
      "https://geocode.arcgis.com:443 \"POST /arcgis/rest/services/World/GeocodeServer/findAddressCandidates HTTP/1.1\" 200 612\n",
      "https://geocode.arcgis.com:443 \"POST /arcgis/rest/services/World/GeocodeServer/findAddressCandidates HTTP/1.1\" 200 612\n"
     ]
    },
    {
     "name": "stdout",
     "output_type": "stream",
     "text": [
      "Geocoded 235 Ocean Avenue, Middletown, Monmouth, 07748\n",
      "Geocoded 357 Little Silver Point Road, Little Silver, Monmouth, 07739\n",
      "Geocoded 422 Cliffwood Ave, Cliffwood, Monmouth, 07721\n"
     ]
    },
    {
     "name": "stderr",
     "output_type": "stream",
     "text": [
      "https://geocode.arcgis.com:443 \"POST /arcgis/rest/services/World/GeocodeServer/findAddressCandidates HTTP/1.1\" 200 806\n",
      "https://geocode.arcgis.com:443 \"POST /arcgis/rest/services/World/GeocodeServer/findAddressCandidates HTTP/1.1\" 200 806\n",
      "https://geocode.arcgis.com:443 \"POST /arcgis/rest/services/World/GeocodeServer/findAddressCandidates HTTP/1.1\" 200 614\n",
      "https://geocode.arcgis.com:443 \"POST /arcgis/rest/services/World/GeocodeServer/findAddressCandidates HTTP/1.1\" 200 614\n",
      "https://geocode.arcgis.com:443 \"POST /arcgis/rest/services/World/GeocodeServer/findAddressCandidates HTTP/1.1\" 200 620\n",
      "https://geocode.arcgis.com:443 \"POST /arcgis/rest/services/World/GeocodeServer/findAddressCandidates HTTP/1.1\" 200 620\n"
     ]
    },
    {
     "name": "stdout",
     "output_type": "stream",
     "text": [
      "Geocoded 110 Prospect Village Community, Trenton, Mercer, 08618\n",
      "Geocoded 431 Pennington Ave, Trenton, Mercer, 08618\n",
      "Geocoded 112 Indian Mills Rd, Shamong, Burlington, 08088\n"
     ]
    },
    {
     "name": "stderr",
     "output_type": "stream",
     "text": [
      "https://geocode.arcgis.com:443 \"POST /arcgis/rest/services/World/GeocodeServer/findAddressCandidates HTTP/1.1\" 200 609\n",
      "https://geocode.arcgis.com:443 \"POST /arcgis/rest/services/World/GeocodeServer/findAddressCandidates HTTP/1.1\" 200 609\n",
      "https://geocode.arcgis.com:443 \"POST /arcgis/rest/services/World/GeocodeServer/findAddressCandidates HTTP/1.1\" 200 621\n",
      "https://geocode.arcgis.com:443 \"POST /arcgis/rest/services/World/GeocodeServer/findAddressCandidates HTTP/1.1\" 200 621\n",
      "https://geocode.arcgis.com:443 \"POST /arcgis/rest/services/World/GeocodeServer/findAddressCandidates HTTP/1.1\" 200 769\n",
      "https://geocode.arcgis.com:443 \"POST /arcgis/rest/services/World/GeocodeServer/findAddressCandidates HTTP/1.1\" 200 769\n"
     ]
    },
    {
     "name": "stdout",
     "output_type": "stream",
     "text": [
      "Geocoded 24 Allen Ave, Medford, Burlington, 08055\n",
      "Geocoded 135 Mudjekkeewis Trail, Medford Lakes, Burlington, 08055\n",
      "Geocoded Evergreen Trail, Medford, Burlington, 08055\n"
     ]
    },
    {
     "name": "stderr",
     "output_type": "stream",
     "text": [
      "https://geocode.arcgis.com:443 \"POST /arcgis/rest/services/World/GeocodeServer/findAddressCandidates HTTP/1.1\" 200 761\n",
      "https://geocode.arcgis.com:443 \"POST /arcgis/rest/services/World/GeocodeServer/findAddressCandidates HTTP/1.1\" 200 761\n",
      "https://geocode.arcgis.com:443 \"POST /arcgis/rest/services/World/GeocodeServer/findAddressCandidates HTTP/1.1\" 200 619\n",
      "https://geocode.arcgis.com:443 \"POST /arcgis/rest/services/World/GeocodeServer/findAddressCandidates HTTP/1.1\" 200 619\n",
      "https://geocode.arcgis.com:443 \"POST /arcgis/rest/services/World/GeocodeServer/findAddressCandidates HTTP/1.1\" 200 868\n",
      "https://geocode.arcgis.com:443 \"POST /arcgis/rest/services/World/GeocodeServer/findAddressCandidates HTTP/1.1\" 200 868\n",
      "https://geocode.arcgis.com:443 \"POST /arcgis/rest/services/World/GeocodeServer/findAddressCandidates HTTP/1.1\" 200 611\n"
     ]
    },
    {
     "name": "stdout",
     "output_type": "stream",
     "text": [
      "Geocoded 400 Fairview Rd, Medford, Burlington, 08055\n",
      "Geocoded 36 Chairville Rd, Medford, Burlington, 08055\n",
      "Geocoded 151 Hartford Rd, Medford, Burlington, 08055\n"
     ]
    },
    {
     "name": "stderr",
     "output_type": "stream",
     "text": [
      "https://geocode.arcgis.com:443 \"POST /arcgis/rest/services/World/GeocodeServer/findAddressCandidates HTTP/1.1\" 200 611\n",
      "https://geocode.arcgis.com:443 \"POST /arcgis/rest/services/World/GeocodeServer/findAddressCandidates HTTP/1.1\" 200 610\n",
      "https://geocode.arcgis.com:443 \"POST /arcgis/rest/services/World/GeocodeServer/findAddressCandidates HTTP/1.1\" 200 610\n",
      "https://geocode.arcgis.com:443 \"POST /arcgis/rest/services/World/GeocodeServer/findAddressCandidates HTTP/1.1\" 200 632\n",
      "https://geocode.arcgis.com:443 \"POST /arcgis/rest/services/World/GeocodeServer/findAddressCandidates HTTP/1.1\" 200 632\n",
      "https://geocode.arcgis.com:443 \"POST /arcgis/rest/services/World/GeocodeServer/findAddressCandidates HTTP/1.1\" 200 953\n"
     ]
    },
    {
     "name": "stdout",
     "output_type": "stream",
     "text": [
      "Geocoded 141 New Road, Tabernacle, Burlington, 08088\n",
      "Geocoded 59 Paul Robeson Pl, Princeton, Mercer, 08540\n",
      "Geocoded 66 Eggerts Crossing Road, Lawrenceville, Mercer, 08648\n"
     ]
    },
    {
     "name": "stderr",
     "output_type": "stream",
     "text": [
      "https://geocode.arcgis.com:443 \"POST /arcgis/rest/services/World/GeocodeServer/findAddressCandidates HTTP/1.1\" 200 953\n",
      "https://geocode.arcgis.com:443 \"POST /arcgis/rest/services/World/GeocodeServer/findAddressCandidates HTTP/1.1\" 200 615\n",
      "https://geocode.arcgis.com:443 \"POST /arcgis/rest/services/World/GeocodeServer/findAddressCandidates HTTP/1.1\" 200 615\n",
      "https://geocode.arcgis.com:443 \"POST /arcgis/rest/services/World/GeocodeServer/findAddressCandidates HTTP/1.1\" 200 618\n",
      "https://geocode.arcgis.com:443 \"POST /arcgis/rest/services/World/GeocodeServer/findAddressCandidates HTTP/1.1\" 200 618\n",
      "https://geocode.arcgis.com:443 \"POST /arcgis/rest/services/World/GeocodeServer/findAddressCandidates HTTP/1.1\" 200 734\n"
     ]
    },
    {
     "name": "stdout",
     "output_type": "stream",
     "text": [
      "Geocoded 2060 Princeton Pike, Lawrenceville, Mercer, 08648\n",
      "Geocoded 3562 Nottingham Way, Hamilton, Mercer, 08690\n",
      "Geocoded 39 Magnolia La, Princeton, Mercer, 08540\n"
     ]
    },
    {
     "name": "stderr",
     "output_type": "stream",
     "text": [
      "https://geocode.arcgis.com:443 \"POST /arcgis/rest/services/World/GeocodeServer/findAddressCandidates HTTP/1.1\" 200 734\n",
      "https://geocode.arcgis.com:443 \"POST /arcgis/rest/services/World/GeocodeServer/findAddressCandidates HTTP/1.1\" 200 605\n",
      "https://geocode.arcgis.com:443 \"POST /arcgis/rest/services/World/GeocodeServer/findAddressCandidates HTTP/1.1\" 200 605\n",
      "https://geocode.arcgis.com:443 \"POST /arcgis/rest/services/World/GeocodeServer/findAddressCandidates HTTP/1.1\" 200 613\n",
      "https://geocode.arcgis.com:443 \"POST /arcgis/rest/services/World/GeocodeServer/findAddressCandidates HTTP/1.1\" 200 613\n"
     ]
    },
    {
     "name": "stdout",
     "output_type": "stream",
     "text": [
      "Geocoded 285 Rosedale Rd, Princeton, Mercer, 08540\n",
      "Geocoded 2 Clay Street, Princeton, Mercer, 08540\n",
      "Geocoded 20-B Juniper Row, Princeton, Mercer, 08540\n"
     ]
    },
    {
     "name": "stderr",
     "output_type": "stream",
     "text": [
      "https://geocode.arcgis.com:443 \"POST /arcgis/rest/services/World/GeocodeServer/findAddressCandidates HTTP/1.1\" 200 625\n",
      "https://geocode.arcgis.com:443 \"POST /arcgis/rest/services/World/GeocodeServer/findAddressCandidates HTTP/1.1\" 200 625\n",
      "https://geocode.arcgis.com:443 \"POST /arcgis/rest/services/World/GeocodeServer/findAddressCandidates HTTP/1.1\" 200 773\n",
      "https://geocode.arcgis.com:443 \"POST /arcgis/rest/services/World/GeocodeServer/findAddressCandidates HTTP/1.1\" 200 773\n",
      "https://geocode.arcgis.com:443 \"POST /arcgis/rest/services/World/GeocodeServer/findAddressCandidates HTTP/1.1\" 200 620\n",
      "https://geocode.arcgis.com:443 \"POST /arcgis/rest/services/World/GeocodeServer/findAddressCandidates HTTP/1.1\" 200 620\n",
      "https://geocode.arcgis.com:443 \"POST /arcgis/rest/services/World/GeocodeServer/findAddressCandidates HTTP/1.1\" 200 612\n"
     ]
    },
    {
     "name": "stdout",
     "output_type": "stream",
     "text": [
      "Geocoded 2 Stone Harbor Blvd, Cape May Court House, Cape May, 08210\n",
      "Geocoded 1701 Kneeley Blvd, Wanamassa, Monmouth, 07712\n",
      "Geocoded 601 N 4th Street, Hammonton, Atlantic, 08037\n"
     ]
    },
    {
     "name": "stderr",
     "output_type": "stream",
     "text": [
      "https://geocode.arcgis.com:443 \"POST /arcgis/rest/services/World/GeocodeServer/findAddressCandidates HTTP/1.1\" 200 612\n",
      "https://geocode.arcgis.com:443 \"POST /arcgis/rest/services/World/GeocodeServer/findAddressCandidates HTTP/1.1\" 200 618\n",
      "https://geocode.arcgis.com:443 \"POST /arcgis/rest/services/World/GeocodeServer/findAddressCandidates HTTP/1.1\" 200 618\n",
      "https://geocode.arcgis.com:443 \"POST /arcgis/rest/services/World/GeocodeServer/findAddressCandidates HTTP/1.1\" 200 608\n",
      "https://geocode.arcgis.com:443 \"POST /arcgis/rest/services/World/GeocodeServer/findAddressCandidates HTTP/1.1\" 200 608\n",
      "https://geocode.arcgis.com:443 \"POST /arcgis/rest/services/World/GeocodeServer/findAddressCandidates HTTP/1.1\" 200 624\n"
     ]
    },
    {
     "name": "stdout",
     "output_type": "stream",
     "text": [
      "Geocoded 1201 W State Street, Trenton, Mercer, 08618\n",
      "Geocoded 3100 Federal Street, Camden, Camden, 08105\n",
      "Geocoded 1602 Pine Street, Camden, Camden, 08103\n"
     ]
    },
    {
     "name": "stderr",
     "output_type": "stream",
     "text": [
      "https://geocode.arcgis.com:443 \"POST /arcgis/rest/services/World/GeocodeServer/findAddressCandidates HTTP/1.1\" 200 624\n",
      "https://geocode.arcgis.com:443 \"POST /arcgis/rest/services/World/GeocodeServer/findAddressCandidates HTTP/1.1\" 200 881\n",
      "https://geocode.arcgis.com:443 \"POST /arcgis/rest/services/World/GeocodeServer/findAddressCandidates HTTP/1.1\" 200 881\n",
      "https://geocode.arcgis.com:443 \"POST /arcgis/rest/services/World/GeocodeServer/findAddressCandidates HTTP/1.1\" 200 624\n",
      "https://geocode.arcgis.com:443 \"POST /arcgis/rest/services/World/GeocodeServer/findAddressCandidates HTTP/1.1\" 200 624\n"
     ]
    },
    {
     "name": "stdout",
     "output_type": "stream",
     "text": [
      "Geocoded 50 Bray Ave, Middletown, Monmouth, 07748\n",
      "Geocoded 704 Woodlane Rd, Mount Holly, Burlington, 08060\n",
      "Geocoded 131 Crest Haven Rd, Cape May Court House, Cape May, 08210\n"
     ]
    },
    {
     "name": "stderr",
     "output_type": "stream",
     "text": [
      "https://geocode.arcgis.com:443 \"POST /arcgis/rest/services/World/GeocodeServer/findAddressCandidates HTTP/1.1\" 200 627\n",
      "https://geocode.arcgis.com:443 \"POST /arcgis/rest/services/World/GeocodeServer/findAddressCandidates HTTP/1.1\" 200 627\n",
      "https://geocode.arcgis.com:443 \"POST /arcgis/rest/services/World/GeocodeServer/findAddressCandidates HTTP/1.1\" 200 622\n",
      "https://geocode.arcgis.com:443 \"POST /arcgis/rest/services/World/GeocodeServer/findAddressCandidates HTTP/1.1\" 200 622\n",
      "https://geocode.arcgis.com:443 \"POST /arcgis/rest/services/World/GeocodeServer/findAddressCandidates HTTP/1.1\" 200 616\n",
      "https://geocode.arcgis.com:443 \"POST /arcgis/rest/services/World/GeocodeServer/findAddressCandidates HTTP/1.1\" 200 616\n",
      "https://geocode.arcgis.com:443 \"POST /arcgis/rest/services/World/GeocodeServer/findAddressCandidates HTTP/1.1\" 200 970\n"
     ]
    },
    {
     "name": "stdout",
     "output_type": "stream",
     "text": [
      "Geocoded 2562 Tilton Rd, Egg Harbor Township, Atlantic, 08234\n",
      "Geocoded 1076 Wayside Rd, Ocean Township, Monmouth, 07712\n",
      "Geocoded 1600 Stuyvesant Ave, Trenton, Mercer, 08618\n"
     ]
    },
    {
     "name": "stderr",
     "output_type": "stream",
     "text": [
      "https://geocode.arcgis.com:443 \"POST /arcgis/rest/services/World/GeocodeServer/findAddressCandidates HTTP/1.1\" 200 970\n",
      "https://geocode.arcgis.com:443 \"POST /arcgis/rest/services/World/GeocodeServer/findAddressCandidates HTTP/1.1\" 200 617\n",
      "https://geocode.arcgis.com:443 \"POST /arcgis/rest/services/World/GeocodeServer/findAddressCandidates HTTP/1.1\" 200 617\n",
      "https://geocode.arcgis.com:443 \"POST /arcgis/rest/services/World/GeocodeServer/findAddressCandidates HTTP/1.1\" 200 616\n"
     ]
    },
    {
     "name": "stdout",
     "output_type": "stream",
     "text": [
      "Geocoded 540 Route 57e, Port Murray, Warren, 07865\n",
      "Geocoded 186-190 Butler Street, Paterson, Passaic, 07524\n"
     ]
    },
    {
     "name": "stderr",
     "output_type": "stream",
     "text": [
      "https://geocode.arcgis.com:443 \"POST /arcgis/rest/services/World/GeocodeServer/findAddressCandidates HTTP/1.1\" 200 616\n"
     ]
    },
    {
     "name": "stdout",
     "output_type": "stream",
     "text": [
      "Geocoded 10 Grove Street, Cherry Hill, Camden, 08002\n",
      "Wrote Childcare_Centers_New_Geocoded_ESRI.csv!\n"
     ]
    }
   ],
   "source": [
    "geocoding_input_filepath = \"Childcare_Centers_New.csv\"\n",
    "geocoding_output_filepath = \"Childcare_Centers_New_Geocoded_ESRI.csv\"\n",
    "\n",
    "geocode_Childcare_Centers_NJ(geocoding_input_filepath, geocoding_output_filepath)"
   ]
  }
 ],
 "metadata": {
  "colab": {
   "collapsed_sections": [],
   "provenance": [],
   "toc_visible": true
  },
  "kernelspec": {
   "display_name": "Python 3 (ipykernel)",
   "language": "python",
   "name": "python3"
  },
  "language_info": {
   "codemirror_mode": {
    "name": "ipython",
    "version": 3
   },
   "file_extension": ".py",
   "mimetype": "text/x-python",
   "name": "python",
   "nbconvert_exporter": "python",
   "pygments_lexer": "ipython3",
   "version": "3.11.4"
  }
 },
 "nbformat": 4,
 "nbformat_minor": 4
}
